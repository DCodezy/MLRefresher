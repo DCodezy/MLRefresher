{
 "cells": [
  {
   "cell_type": "markdown",
   "metadata": {},
   "source": [
    "# Refresher on Backpropagating through Neural Networks\n",
    "This will be based on the network decsribed in https://mattmazur.com/2015/03/17/a-step-by-step-backpropagation-example/"
   ]
  },
  {
   "cell_type": "code",
   "execution_count": 47,
   "metadata": {
    "collapsed": true
   },
   "outputs": [],
   "source": [
    "import time\n",
    "import math, os\n",
    "import numpy as np\n",
    "import pandas as pd\n",
    "import matplotlib.pyplot as plt\n",
    "from matplotlib.pyplot import imshow\n",
    "from PIL import Image\n",
    "from pylab import *\n",
    "\n",
    "%matplotlib inline"
   ]
  },
  {
   "cell_type": "markdown",
   "metadata": {},
   "source": [
    "# Activation Functions"
   ]
  },
  {
   "cell_type": "code",
   "execution_count": 48,
   "metadata": {
    "collapsed": true
   },
   "outputs": [],
   "source": [
    "def sigmoid_func(in_vec, derivative_of=False):\n",
    "    if not derivative_of:\n",
    "        return 1 / (1 + np.exp(-in_vec))\n",
    "    base_value = sigmoid_func(in_vec, derivative_of=False)\n",
    "    return np.multiply(base_value, (1 - base_value))\n",
    "\n",
    "def relu_func(in_vec, derivative_of=False, out=None):\n",
    "    if not derivative_of:\n",
    "        if out is None:\n",
    "            return np.maximum(in_vec, 0)\n",
    "        np.maximum(in_vec, 0, out=out)\n",
    "        return\n",
    "    if out is None:\n",
    "        out = np.copy(in_vec)\n",
    "        out[out >= 0] = 1\n",
    "        out[out < 0] = 0\n",
    "        return out  \n",
    "    else:\n",
    "        np.copyto(out, in_vec)\n",
    "        out[out > 0] = 1\n",
    "        out[out <= 0] = 0\n",
    "        return\n",
    "\n",
    "def softmax_func(in_y, derivative_of=False, out=None):\n",
    "    if not derivative_of:\n",
    "        exp_vals = np.exp(in_y)\n",
    "        exp_sums = np.sum(exp_vals, axis=1, keepdims=True)\n",
    "        if out is None:\n",
    "            return exp_vals / exp_sums\n",
    "        np.divide(exp_vals, exp_sums, out=out)\n",
    "        return\n",
    "    func_vals = softmax_func(in_y, derivative_of=False, out=None)\n",
    "    if out is None:\n",
    "        return (func_vals*(1-func_vals))\n",
    "    np.copyto(out, (func_vals*(1-func_vals)))"
   ]
  },
  {
   "cell_type": "markdown",
   "metadata": {},
   "source": [
    "# Loss Functions"
   ]
  },
  {
   "cell_type": "code",
   "execution_count": 49,
   "metadata": {
    "collapsed": true
   },
   "outputs": [],
   "source": [
    "def mean_squared_error(true_y, pred_y, derivative_of=False):\n",
    "    if not derivative_of:\n",
    "        return (1. / 2) * np.sum((true_y - pred_y) ** 2, axis=1)\n",
    "    return pred_y - true_y\n",
    "\n",
    "def cross_entropy(true_y, pred_y, derivative_of=False):\n",
    "    scaling = (1. / true_y.shape[1])\n",
    "    if not derivative_of:\n",
    "        sum_out = np.sum(\n",
    "            (true_y * np.log(pred_y)) + ((1 - true_y) * np.log(1 - pred_y))\n",
    "            , axis=1\n",
    "        )\n",
    "        return - scaling * sum_out\n",
    "    min_cutoff = 0.00001\n",
    "    dv_E_outs = (true_y / np.maximum(pred_y, min_cutoff)) - ((1 - true_y) / np.maximum((1 - pred_y), min_cutoff))\n",
    "    return - scaling * dv_E_outs"
   ]
  },
  {
   "cell_type": "markdown",
   "metadata": {},
   "source": [
    "# Optimization Functions [depricated in LayerModel]"
   ]
  },
  {
   "cell_type": "code",
   "execution_count": 50,
   "metadata": {
    "collapsed": true
   },
   "outputs": [],
   "source": [
    "def stochastic_gradient_descent(orig_layer_w, layer_delta_w, learning_rate=0.1):\n",
    "    return orig_layer_w - (learning_rate * layer_delta_w)"
   ]
  },
  {
   "cell_type": "code",
   "execution_count": 51,
   "metadata": {
    "collapsed": true
   },
   "outputs": [],
   "source": [
    "def plot_history(model_history):\n",
    "    ax1, ax2 = plt.subplot(211), plt.subplot(212)\n",
    "    ax1.plot(model_hist)\n",
    "    ax1.set_xscale('log')\n",
    "    ax1.set_ylabel('loss')\n",
    "    ax2.plot(model_hist)\n",
    "    ax2.set_yscale('log')\n",
    "    ax2.set_ylabel('loss')\n",
    "    ax2.set_xlabel('epoch')\n",
    "    plt.show()"
   ]
  },
  {
   "cell_type": "code",
   "execution_count": 6,
   "metadata": {
    "collapsed": false
   },
   "outputs": [],
   "source": [
    "# Class global variables: \n",
    "# add_bias, networks_weights, layers_activations, batch_size, num_layers, network_value_cache\n",
    "class BasicModel:\n",
    "    def __init__(self, init_weights, layer_activations, add_bias=True, batch_size=None):\n",
    "        if len(init_weights) != len(layer_activations):\n",
    "            raise ValueError('Lengths of init_weights (' + str(len(init_weights)) + \n",
    "                             ') and layer_activations (' + str(len(layer_activations)) + \n",
    "                             ') not equal')\n",
    "        self.add_bias = add_bias\n",
    "        self.network_weights = np.copy(init_weights)\n",
    "        self.layers_activations = np.copy(layer_activations)\n",
    "        if batch_size is None:\n",
    "            batch_size = 1\n",
    "        self.batch_size = batch_size\n",
    "        self.num_layers = len(init_weights)\n",
    "        value_cache_layout = []\n",
    "        for layer_weight_base in self.network_weights:\n",
    "            output_shape = (batch_size, layer_weight_base.shape[0])\n",
    "            zeros = [[0.] * layer_weight_base.shape[0]] * batch_size\n",
    "            value_cache_layout.append([zeros, zeros])\n",
    "        self.network_value_cache = value_cache_layout\n",
    "    \n",
    "    def forward_pass(self, in_vec):\n",
    "        if len(in_vec.shape) == 1:\n",
    "            output_cache = in_vec.reshape((1, in_vec.shape[0]))\n",
    "        else:\n",
    "            output_cache = np.copy(in_vec)\n",
    "        self.input_cache = np.copy(output_cache)\n",
    "\n",
    "        for i, (layer_weights, activation) in enumerate(zip(self.network_weights, self.layers_activations)):\n",
    "            if self.add_bias:\n",
    "                bias_terms = [1] * output_cache.shape[0]\n",
    "                output_cache = np.column_stack((output_cache, bias_terms))\n",
    "            self.network_value_cache[i][0] = np.matmul(output_cache, layer_weights.transpose())\n",
    "            self.network_value_cache[i][1] = activation(self.network_value_cache[i][0])\n",
    "            output_cache = self.network_value_cache[i][1]\n",
    "        return self.network_value_cache[len(self.network_value_cache) - 1][1]\n",
    "    \n",
    "    def backward_pass(self, y_true):\n",
    "        sigma_cache = []\n",
    "        # Backprop last layer and calculate sigma oi's\n",
    "        net_out, layer_out = self.network_value_cache[len(self.network_value_cache) - 1]\n",
    "        div_E_out = layer_out - y_true\n",
    "        div_out_net = self.layers_activations[len(self.layers_activations) - 1](net_out, derivative_of=True)\n",
    "        div_E_net = np.multiply(div_E_out, div_out_net)   # This is the sigma for this layer\n",
    "        sigma_cache.append(div_E_net)\n",
    "        \n",
    "        # Backprop through rest of layers\n",
    "        num_hidden_layers = len(self.network_value_cache) - 1 # Subtract 1 because we take care of last layer already\n",
    "        for i in reversed(range(0, num_hidden_layers)):\n",
    "            net_out, layer_out = self.network_value_cache[i]\n",
    "            div_E_out = np.matmul(\n",
    "                sigma_cache[num_hidden_layers - i - 2],\n",
    "                self.network_weights[i + 1][:, :-1], \n",
    "            )\n",
    "            div_out_net = self.layers_activations[i](net_out, derivative_of=True)\n",
    "            div_E_net = np.multiply(div_E_out, div_out_net)\n",
    "            sigma_cache.append(div_E_net)\n",
    "        sigma_cache = list(reversed(sigma_cache))\n",
    "        \n",
    "        # Forward through sigmas and w's to get dW's\n",
    "        delta_w = []\n",
    "        # Do first layer separately because using input X rather than previous layer output\n",
    "        if self.add_bias:\n",
    "            bias_terms = [1] * self.input_cache.shape[0]\n",
    "            layer_input = np.column_stack((self.input_cache, bias_terms))\n",
    "        else:\n",
    "            layer_input = self.input_cache.transpose()\n",
    "        div_E_w = np.matmul(sigma_cache[0].transpose(), layer_input)\n",
    "        delta_w.append((1 / self.batch_size) * div_E_w)\n",
    "        # Do the rest of the layers\n",
    "        for i, layer_sigma in enumerate(sigma_cache[1:]):\n",
    "            prev_net_out, prev_layer_out = self.network_value_cache[i]\n",
    "            if self.add_bias:\n",
    "                bias_terms = [1] * prev_layer_out.shape[0]\n",
    "                layer_input = np.column_stack((prev_layer_out, bias_terms))\n",
    "            else:\n",
    "                layer_input = prev_layer_out\n",
    "            div_E_w = np.matmul(layer_sigma.transpose(), layer_input)\n",
    "            delta_w.append((1 / self.batch_size) * div_E_w)\n",
    "        # Average over minibatch and return dW's\n",
    "        return delta_w\n",
    "    \n",
    "    def predict(self, in_vec):\n",
    "        if len(in_vec.shape) == 1:\n",
    "            output_cache = in_vec.reshape((1, in_vec.shape[0]))\n",
    "        else:\n",
    "            output_cache = np.copy(in_vec)\n",
    "        self.input_cache = np.copy(output_cache)\n",
    "\n",
    "        for i, (layer_weights, activation) in enumerate(zip(self.network_weights, self.layers_activations)):\n",
    "            if self.add_bias:\n",
    "                bias_terms = [1] * output_cache.shape[0]\n",
    "                output_cache = np.column_stack((output_cache, bias_terms))\n",
    "            net_sum = np.matmul(output_cache, layer_weights.transpose())\n",
    "            output_cache = activation(net_sum)\n",
    "        return output_cache\n",
    "    \n",
    "    def update(self, delta_w, optimizer_func, lr):\n",
    "        for i, layer_delta_w in enumerate(delta_w):\n",
    "            self.network_weights[i] = optimizer_func(self.network_weights[i], layer_delta_w, lr)\n",
    "    \n",
    "    def fit_std(self, x, y_true, epochs=100, loss_function=None, optimizer_func=None, lr=0.1):\n",
    "        loss_history = []\n",
    "        for i in range(epochs):\n",
    "            y_pred = self.forward_pass(x)\n",
    "            loss_history.append(loss_function(y_true, y_pred))\n",
    "            if (i % int(epochs / 4)) == 0:\n",
    "                print('Epoch ' + str(i) + ' loss: ' + str(loss_history[len(loss_history) - 1]))\n",
    "            d_w = self.backward_pass(y_true)\n",
    "            self.update(d_w, optimizer_func, lr=lr)\n",
    "        return loss_history"
   ]
  },
  {
   "cell_type": "markdown",
   "metadata": {},
   "source": [
    "## Small (2 layer) NN"
   ]
  },
  {
   "cell_type": "code",
   "execution_count": 15,
   "metadata": {
    "collapsed": true
   },
   "outputs": [],
   "source": [
    "# Starting weights\n",
    "input_vec = np.array([.05,.1])\n",
    "true_y = np.array([.01,.99])\n",
    "w_h = np.array([\n",
    "    [.15, .25, .35],\n",
    "    [.2,  .30,  .35]\n",
    "])\n",
    "w_o = np.array([\n",
    "    [.40, .45, .60],\n",
    "    [.50, .55, .60]\n",
    "])"
   ]
  },
  {
   "cell_type": "code",
   "execution_count": 16,
   "metadata": {
    "collapsed": false,
    "scrolled": true
   },
   "outputs": [
    {
     "name": "stdout",
     "output_type": "stream",
     "text": [
      "Epoch 0 loss: [ 0.29839005]\n",
      "Epoch 7500 loss: [  5.67232090e-06]\n",
      "Epoch 15000 loss: [  5.64907152e-07]\n",
      "Epoch 22500 loss: [  7.88482582e-08]\n",
      "Epoch 30000 loss: [  1.22081756e-08]\n",
      "Epoch 0 loss: [  1.22051804e-08]\n",
      "Epoch 7500 loss: [  4.88190422e-09]\n",
      "Epoch 15000 loss: [  1.96384730e-09]\n",
      "Epoch 22500 loss: [  7.92871574e-10]\n",
      "Epoch 30000 loss: [  3.20861358e-10]\n",
      "Epoch 0 loss: [  3.20822696e-10]\n",
      "Epoch 7500 loss: [  2.23519974e-10]\n",
      "Epoch 15000 loss: [  1.55760756e-10]\n",
      "Epoch 22500 loss: [  1.08561868e-10]\n",
      "Epoch 30000 loss: [  7.56769253e-11]\n",
      "Epoch 0 loss: [  7.56732850e-11]\n",
      "Epoch 7500 loss: [  7.29919058e-11]\n",
      "Epoch 15000 loss: [  7.04056304e-11]\n",
      "Epoch 22500 loss: [  6.79110811e-11]\n",
      "Epoch 30000 loss: [  6.55050005e-11]\n",
      "Epoch 0 loss: [  6.55046855e-11]\n",
      "Epoch 7500 loss: [  6.52688227e-11]\n",
      "Epoch 15000 loss: [  6.50338099e-11]\n",
      "Epoch 22500 loss: [  6.47996442e-11]\n",
      "Epoch 30000 loss: [  6.45663225e-11]\n"
     ]
    }
   ],
   "source": [
    "model = BasicModel(init_weights=[w_h, w_o], layer_activations=[sigmoid_func, sigmoid_func])\n",
    "\n",
    "model_hist = []\n",
    "for lr in [0.5, 0.25, 0.1, 0.01, 0.001]:\n",
    "    epoch_hist = model.fit_std(\n",
    "        x=input_vec, \n",
    "        y_true=true_y, \n",
    "        epochs=30001, \n",
    "        loss_function=mean_squared_error, \n",
    "        optimizer_func=stochastic_gradient_descent,\n",
    "        lr=lr\n",
    "    )\n",
    "    model_hist += epoch_hist"
   ]
  },
  {
   "cell_type": "code",
   "execution_count": 21,
   "metadata": {
    "collapsed": false
   },
   "outputs": [
    {
     "data": {
      "image/png": "[encoded data removed]",
      "text/plain": [
       "<matplotlib.figure.Figure at 0x2120fcb37b8>"
      ]
     },
     "metadata": {},
     "output_type": "display_data"
    }
   ],
   "source": [
    "plot_history(model_hist)"
   ]
  },
  {
   "cell_type": "code",
   "execution_count": 22,
   "metadata": {
    "collapsed": false
   },
   "outputs": [
    {
     "name": "stdout",
     "output_type": "stream",
     "text": [
      "True y: [ 0.01  0.99]\n",
      "Predicted y: [[ 0.01000853  0.98999249]]\n"
     ]
    }
   ],
   "source": [
    "y_pred = model.forward_pass(input_vec)\n",
    "print('True y: ' + str(true_y))\n",
    "print('Predicted y: ' + str(y_pred))"
   ]
  },
  {
   "cell_type": "markdown",
   "metadata": {},
   "source": [
    "## Larger (3 layer) 2->3->2->2 NN"
   ]
  },
  {
   "cell_type": "code",
   "execution_count": 13,
   "metadata": {
    "collapsed": true
   },
   "outputs": [],
   "source": [
    "# Starting weights\n",
    "input_vec2 = np.array([.05,.1])\n",
    "true_y2 = np.array([.01,.99])\n",
    "w_h21 = np.array([\n",
    "    [.40, .30, .50],\n",
    "    [.70, .63, .33],\n",
    "    [.23, .43, .73]\n",
    "])\n",
    "w_h22 = np.array([\n",
    "    [.15, .25, .66, .35],\n",
    "    [.2,  .30, .29, .35]\n",
    "])\n",
    "w_o2 = np.array([\n",
    "    [.40, .45, .60],\n",
    "    [.50, .55, .60]\n",
    "])"
   ]
  },
  {
   "cell_type": "code",
   "execution_count": 15,
   "metadata": {
    "collapsed": false,
    "scrolled": true
   },
   "outputs": [
    {
     "name": "stdout",
     "output_type": "stream",
     "text": [
      "Epoch 0 loss: [ 0.30830438]\n",
      "Epoch 25000 loss: [  1.81211777e-08]\n",
      "Epoch 50000 loss: [  1.96869385e-11]\n",
      "Epoch 75000 loss: [  2.24897203e-14]\n",
      "Epoch 100000 loss: [  2.58142753e-17]\n",
      "Epoch 0 loss: [  2.58072875e-17]\n",
      "Epoch 25000 loss: [  8.76023955e-19]\n",
      "Epoch 50000 loss: [  2.97861153e-20]\n",
      "Epoch 75000 loss: [  1.01497461e-21]\n",
      "Epoch 100000 loss: [  3.46839431e-23]\n",
      "Epoch 0 loss: [  3.46787787e-23]\n",
      "Epoch 25000 loss: [  8.99695719e-24]\n",
      "Epoch 50000 loss: [  2.33760414e-24]\n",
      "Epoch 75000 loss: [  6.04050618e-25]\n",
      "Epoch 100000 loss: [  1.59646786e-25]\n",
      "Epoch 0 loss: [  1.59642774e-25]\n",
      "Epoch 25000 loss: [  1.59642774e-25]\n",
      "Epoch 50000 loss: [  1.59642774e-25]\n",
      "Epoch 75000 loss: [  1.59642774e-25]\n",
      "Epoch 100000 loss: [  1.59642774e-25]\n",
      "Epoch 0 loss: [  1.59642774e-25]\n",
      "Epoch 25000 loss: [  1.59642774e-25]\n",
      "Epoch 50000 loss: [  1.59642774e-25]\n",
      "Epoch 75000 loss: [  1.59642774e-25]\n",
      "Epoch 100000 loss: [  1.59642774e-25]\n"
     ]
    }
   ],
   "source": [
    "model_big = BasicModel(\n",
    "    init_weights=[w_h21, w_h22, w_o2], \n",
    "    layer_activations=[sigmoid_func, sigmoid_func, sigmoid_func]\n",
    ")\n",
    "\n",
    "model_hist = []\n",
    "for lr in [0.5, 0.25, 0.1, 0.01, 0.001]:\n",
    "    epoch_hist = model_big.fit_std(\n",
    "        x=input_vec2, \n",
    "        y_true=true_y2, \n",
    "        epochs=100001, \n",
    "        loss_function=mean_squared_error, \n",
    "        optimizer_func=stochastic_gradient_descent,\n",
    "        lr=lr\n",
    "    )\n",
    "    model_hist += epoch_hist"
   ]
  },
  {
   "cell_type": "code",
   "execution_count": 32,
   "metadata": {
    "collapsed": false
   },
   "outputs": [
    {
     "data": {
      "image/png": "[encoded data removed]",
      "text/plain": [
       "<matplotlib.figure.Figure at 0x21211634ba8>"
      ]
     },
     "metadata": {},
     "output_type": "display_data"
    }
   ],
   "source": [
    "plot_history(model_hist)"
   ]
  },
  {
   "cell_type": "code",
   "execution_count": 33,
   "metadata": {
    "collapsed": false
   },
   "outputs": [
    {
     "name": "stdout",
     "output_type": "stream",
     "text": [
      "True y: [ 0.01  0.99]\n",
      "Predicted y: [[ 0.01  0.99]]\n"
     ]
    }
   ],
   "source": [
    "y_pred = model_big.forward_pass(input_vec2)\n",
    "print('True y: ' + str(true_y2))\n",
    "print('Predicted y: ' + str(y_pred))"
   ]
  },
  {
   "cell_type": "code",
   "execution_count": 34,
   "metadata": {
    "collapsed": false
   },
   "outputs": [
    {
     "data": {
      "text/plain": [
       "array([ array([[ 0.39828278,  0.29656556,  0.46565555],\n",
       "       [ 0.69673126,  0.62346252,  0.26462525],\n",
       "       [ 0.21480253,  0.39960506,  0.42605059]]),\n",
       "       array([[ 0.41042405,  0.49537639,  0.92315088,  0.76628642],\n",
       "       [ 0.46430831,  0.54896316,  0.5565346 ,  0.77261816]]),\n",
       "       array([[-1.59381313, -1.45148161, -1.97847675],\n",
       "       [ 1.55382308,  1.56165418,  1.91960895]])], dtype=object)"
      ]
     },
     "execution_count": 34,
     "metadata": {},
     "output_type": "execute_result"
    }
   ],
   "source": [
    "model_big.network_weights"
   ]
  },
  {
   "cell_type": "markdown",
   "metadata": {},
   "source": [
    "## ReLU Network"
   ]
  },
  {
   "cell_type": "code",
   "execution_count": 35,
   "metadata": {
    "collapsed": true
   },
   "outputs": [],
   "source": [
    "# Starting weights\n",
    "input_vec3 = np.array([.05,.1])\n",
    "true_y3 = np.array([.01,.99])\n",
    "w_h31 = np.array([\n",
    "    [.40, .30, .50],\n",
    "    [.70, .63, .33],\n",
    "    [.23, .43, .73]\n",
    "])\n",
    "w_h32 = np.array([\n",
    "    [.15, .25, .66, .35],\n",
    "    [.2,  .30, .29, .35]\n",
    "])\n",
    "w_o3 = np.array([\n",
    "    [.40, .45, .60],\n",
    "    [.50, .55, .60]\n",
    "])"
   ]
  },
  {
   "cell_type": "markdown",
   "metadata": {},
   "source": [
    "### ReLU network dies with high Learning Rate"
   ]
  },
  {
   "cell_type": "code",
   "execution_count": 36,
   "metadata": {
    "collapsed": false,
    "scrolled": true
   },
   "outputs": [
    {
     "name": "stdout",
     "output_type": "stream",
     "text": [
      "Epoch 0 loss: 1.12479929463\n",
      "Epoch 7500 loss: 5e-05\n",
      "Epoch 15000 loss: 5e-05\n",
      "Epoch 22500 loss: 5e-05\n",
      "Epoch 30000 loss: 5e-05\n",
      "Epoch 0 loss: 5e-05\n",
      "Epoch 7500 loss: 5e-05\n",
      "Epoch 15000 loss: 5e-05\n",
      "Epoch 22500 loss: 5e-05\n",
      "Epoch 30000 loss: 5e-05\n",
      "Epoch 0 loss: 5e-05\n",
      "Epoch 7500 loss: 5e-05\n",
      "Epoch 15000 loss: 5e-05\n",
      "Epoch 22500 loss: 5e-05\n",
      "Epoch 30000 loss: 5e-05\n"
     ]
    }
   ],
   "source": [
    "model_big_relu = BasicModel(\n",
    "    init_weights=[w_h31, w_h32, w_o3], \n",
    "    layer_activations=[relu_func, relu_func, relu_func]\n",
    ")\n",
    "\n",
    "model_hist = []\n",
    "for lr in [0.5, 0.01, 0.001]:\n",
    "    epoch_hist = model_big_relu.fit_std(\n",
    "        x=input_vec3, \n",
    "        y_true=true_y3, \n",
    "        epochs=30001, \n",
    "        loss_function=mean_squared_error, \n",
    "        optimizer_func=stochastic_gradient_descent,\n",
    "        lr=lr\n",
    "    )\n",
    "    model_hist += epoch_hist"
   ]
  },
  {
   "cell_type": "code",
   "execution_count": 37,
   "metadata": {
    "collapsed": false
   },
   "outputs": [
    {
     "data": {
      "image/png": "[encoded data removed]",
      "text/plain": [
       "<matplotlib.figure.Figure at 0x212110f4e10>"
      ]
     },
     "metadata": {},
     "output_type": "display_data"
    }
   ],
   "source": [
    "plot_history(model_hist)"
   ]
  },
  {
   "cell_type": "markdown",
   "metadata": {},
   "source": [
    "### A more reasonable Learning Rate"
   ]
  },
  {
   "cell_type": "code",
   "execution_count": 38,
   "metadata": {
    "collapsed": false
   },
   "outputs": [
    {
     "name": "stdout",
     "output_type": "stream",
     "text": [
      "Epoch 0 loss: 1.12479929463\n",
      "Epoch 7500 loss: 3.55348669677e-30\n",
      "Epoch 15000 loss: 3.55348669677e-30\n",
      "Epoch 22500 loss: 3.55348669677e-30\n",
      "Epoch 30000 loss: 3.55348669677e-30\n",
      "Epoch 0 loss: 3.55348669677e-30\n",
      "Epoch 7500 loss: 3.55348669677e-30\n",
      "Epoch 15000 loss: 3.55348669677e-30\n",
      "Epoch 22500 loss: 3.55348669677e-30\n",
      "Epoch 30000 loss: 3.55348669677e-30\n"
     ]
    }
   ],
   "source": [
    "model_big_relu = BasicModel(\n",
    "    init_weights=[w_h31, w_h32, w_o3], \n",
    "    layer_activations=[relu_func, relu_func, relu_func]\n",
    ")\n",
    "\n",
    "model_hist = []\n",
    "for lr in [0.01, 0.001]:\n",
    "    epoch_hist = model_big_relu.fit_std(\n",
    "        x=input_vec3, \n",
    "        y_true=true_y3, \n",
    "        epochs=30001, \n",
    "        loss_function=mean_squared_error, \n",
    "        optimizer_func=stochastic_gradient_descent,\n",
    "        lr=lr\n",
    "    )\n",
    "    model_hist += epoch_hist"
   ]
  },
  {
   "cell_type": "code",
   "execution_count": 39,
   "metadata": {
    "collapsed": false
   },
   "outputs": [
    {
     "data": {
      "image/png": "[encoded data removed]",
      "text/plain": [
       "<matplotlib.figure.Figure at 0x21213d3bef0>"
      ]
     },
     "metadata": {},
     "output_type": "display_data"
    }
   ],
   "source": [
    "plot_history(model_hist)"
   ]
  },
  {
   "cell_type": "markdown",
   "metadata": {},
   "source": [
    "### Learning Rate too low and it won't converge fast enough"
   ]
  },
  {
   "cell_type": "code",
   "execution_count": 40,
   "metadata": {
    "collapsed": false
   },
   "outputs": [
    {
     "name": "stdout",
     "output_type": "stream",
     "text": [
      "Epoch 0 loss: 1.12479929463\n",
      "Epoch 7500 loss: 1.18937654076e-10\n",
      "Epoch 15000 loss: 4.75537991571e-20\n",
      "Epoch 22500 loss: 4.35122717723e-28\n",
      "Epoch 30000 loss: 3.73333299911e-28\n",
      "Epoch 0 loss: 3.73333299911e-28\n",
      "Epoch 7500 loss: 3.73333299911e-28\n",
      "Epoch 15000 loss: 3.73333299911e-28\n",
      "Epoch 22500 loss: 3.73333299911e-28\n",
      "Epoch 30000 loss: 3.73333299911e-28\n"
     ]
    }
   ],
   "source": [
    "model_big_relu = BasicModel(\n",
    "    init_weights=[w_h31, w_h32, w_o3], \n",
    "    layer_activations=[relu_func, relu_func, relu_func]\n",
    ")\n",
    "\n",
    "model_hist = []\n",
    "for lr in [0.001, 0.0001]:\n",
    "    epoch_hist = model_big_relu.fit_std(\n",
    "        x=input_vec3, \n",
    "        y_true=true_y3, \n",
    "        epochs=30001, \n",
    "        loss_function=mean_squared_error, \n",
    "        optimizer_func=stochastic_gradient_descent,\n",
    "        lr=lr\n",
    "    )\n",
    "    model_hist += epoch_hist"
   ]
  },
  {
   "cell_type": "code",
   "execution_count": 41,
   "metadata": {
    "collapsed": false
   },
   "outputs": [
    {
     "data": {
      "image/png": "[encoded data removed]",
      "text/plain": [
       "<matplotlib.figure.Figure at 0x21211173748>"
      ]
     },
     "metadata": {},
     "output_type": "display_data"
    }
   ],
   "source": [
    "plot_history(model_hist)"
   ]
  },
  {
   "cell_type": "markdown",
   "metadata": {},
   "source": [
    "# Mini-Batch NN"
   ]
  },
  {
   "cell_type": "code",
   "execution_count": 9,
   "metadata": {
    "collapsed": false
   },
   "outputs": [],
   "source": [
    "# Starting weights\n",
    "input_vec4 = np.array([[.05,.1], [.1,.05]])\n",
    "true_y4 = np.array([[.01,.99], [.99,.01]])\n",
    "w_h41 = np.array([\n",
    "    [.40, .30, .50],\n",
    "    [.70, .63, .33],\n",
    "    [.23, .43, .73]\n",
    "])\n",
    "w_h42 = np.array([\n",
    "    [.15, .25, .66, .35],\n",
    "    [.2,  .30, .29, .35]\n",
    "])\n",
    "w_o4 = np.array([\n",
    "    [.40, .45, .60],\n",
    "    [.50, .55, .60]\n",
    "])"
   ]
  },
  {
   "cell_type": "code",
   "execution_count": 13,
   "metadata": {
    "collapsed": false,
    "scrolled": true
   },
   "outputs": [
    {
     "name": "stdout",
     "output_type": "stream",
     "text": [
      "Epoch 0 loss: [ 1.12479929  1.30279685]\n",
      "Epoch 25000 loss: [  2.25615461e-05   1.82584607e-05]\n",
      "Epoch 50000 loss: [  7.56107883e-16   6.48873487e-16]\n",
      "Epoch 75000 loss: [  3.01029552e-26   2.69033649e-26]\n",
      "Epoch 100000 loss: [  6.61154786e-27   6.05812053e-27]\n",
      "Epoch 0 loss: [  6.61154786e-27   6.04471317e-27]\n",
      "Epoch 25000 loss: [  6.61154786e-27   6.04471317e-27]\n",
      "Epoch 50000 loss: [  6.61154786e-27   6.04471317e-27]\n",
      "Epoch 75000 loss: [  6.61154786e-27   6.04471317e-27]\n",
      "Epoch 100000 loss: [  6.61154786e-27   6.04471317e-27]\n",
      "Epoch 0 loss: [  6.61154786e-27   6.04471317e-27]\n",
      "Epoch 25000 loss: [  6.61154786e-27   6.04471317e-27]\n",
      "Epoch 50000 loss: [  6.61154786e-27   6.04471317e-27]\n",
      "Epoch 75000 loss: [  6.61154786e-27   6.04471317e-27]\n",
      "Epoch 100000 loss: [  6.61154786e-27   6.04471317e-27]\n"
     ]
    }
   ],
   "source": [
    "model_big_batch = BasicModel(\n",
    "    init_weights=[w_h41, w_h42, w_o4], \n",
    "    layer_activations=[relu_func, relu_func, relu_func],\n",
    "    add_bias=True,\n",
    "    batch_size=2\n",
    ")\n",
    "\n",
    "model_hist = []\n",
    "for lr in [0.01, 0.001, 0.0001]:\n",
    "    epoch_hist = model_big_batch.fit_std(\n",
    "        x=input_vec4, \n",
    "        y_true=true_y4, \n",
    "        epochs=100001, \n",
    "        loss_function=mean_squared_error, \n",
    "        optimizer_func=stochastic_gradient_descent,\n",
    "        lr=lr\n",
    "    )\n",
    "    model_hist += epoch_hist"
   ]
  },
  {
   "cell_type": "code",
   "execution_count": 14,
   "metadata": {
    "collapsed": false
   },
   "outputs": [
    {
     "data": {
      "image/png": "[encoded data removed]",
      "text/plain": [
       "<matplotlib.figure.Figure at 0x29aba44b8d0>"
      ]
     },
     "metadata": {},
     "output_type": "display_data"
    }
   ],
   "source": [
    "plot_history(model_hist)"
   ]
  },
  {
   "cell_type": "markdown",
   "metadata": {},
   "source": [
    "# Forward pass output averaging (Experiment)"
   ]
  },
  {
   "cell_type": "code",
   "execution_count": 18,
   "metadata": {
    "collapsed": true
   },
   "outputs": [],
   "source": [
    "class IntermidAveragingModel(BasicModel):\n",
    "    def __init(self, init_weights, layer_activations, add_bias=True, batch_size=None):\n",
    "        # Because we are averaging is this case, we can always assume\n",
    "        # Batch_size will alwasy act as 1 after the forward pass\n",
    "        BasicModel.__init__(self, init_weights, layer_activations, add_bias=add_bias, batch_size=1)\n",
    "    \n",
    "    def reduce_batch(self, in_vec):\n",
    "        return (1 / in_vec.shape[0]) * in_vec.sum(axis=0).reshape((1, in_vec.shape[1]))\n",
    "    \n",
    "    def forward_pass(self, in_vec):\n",
    "        if len(in_vec.shape) == 1:\n",
    "            output_cache = in_vec.reshape((1, in_vec.shape[0]))\n",
    "        else:\n",
    "            output_cache = np.copy(in_vec)\n",
    "        self.input_cache = np.copy(output_cache)\n",
    "\n",
    "        for i, (layer_weights, activation) in enumerate(zip(self.network_weights, self.layers_activations)):\n",
    "            if self.add_bias:\n",
    "                bias_terms = [1] * output_cache.shape[0]\n",
    "                output_cache = np.column_stack((output_cache, bias_terms))\n",
    "            self.network_value_cache[i][0] = np.matmul(output_cache, layer_weights.transpose())\n",
    "            self.network_value_cache[i][1] = activation(self.network_value_cache[i][0])\n",
    "            output_cache = self.network_value_cache[i][1]\n",
    "        return self.network_value_cache[len(self.network_value_cache) - 1][1]\n",
    "    \n",
    "    def backward_pass(self, y_true):\n",
    "        return BasicModel(self, self.reduce_batch(y_true))\n",
    "    \n",
    "    def "
   ]
  },
  {
   "cell_type": "code",
   "execution_count": 19,
   "metadata": {
    "collapsed": true
   },
   "outputs": [],
   "source": [
    "# Starting weights\n",
    "input_vec5 = np.array([[.05,.1], [.1,.05]])\n",
    "true_y5 = np.array([[.01,.99], [.99,.01]])\n",
    "w_h51 = np.array([\n",
    "    [.40, .30, .50],\n",
    "    [.70, .63, .33],\n",
    "    [.23, .43, .73]\n",
    "])\n",
    "w_h52 = np.array([\n",
    "    [.15, .25, .66, .35],\n",
    "    [.2,  .30, .29, .35]\n",
    "])\n",
    "w_o5 = np.array([\n",
    "    [.40, .45, .60],\n",
    "    [.50, .55, .60]\n",
    "])"
   ]
  },
  {
   "cell_type": "code",
   "execution_count": null,
   "metadata": {
    "collapsed": true
   },
   "outputs": [],
   "source": [
    "intermid_model_big = IntermidAveragingModel(\n",
    "    init_weights=[w_h51, w_h52, w_o5], \n",
    "    layer_activations=[relu_func, relu_func, relu_func],\n",
    "    add_bias=True,\n",
    "    batch_size=2\n",
    ")\n",
    "\n",
    "model_hist = []\n",
    "for lr in [0.01, 0.001, 0.0001]:\n",
    "    epoch_hist = model_big_batch.fit_std(\n",
    "        x=input_vec5, \n",
    "        y_true=true_y5, \n",
    "        epochs=100001, \n",
    "        loss_function=mean_squared_error, \n",
    "        optimizer_func=stochastic_gradient_descent,\n",
    "        lr=lr\n",
    "    )\n",
    "    model_hist += epoch_hist"
   ]
  },
  {
   "cell_type": "markdown",
   "metadata": {},
   "source": [
    "# Layered Model\n",
    "This will use a similar sequential modeling idea as found in Keras"
   ]
  },
  {
   "cell_type": "code",
   "execution_count": 52,
   "metadata": {
    "collapsed": true
   },
   "outputs": [],
   "source": [
    "class SGD:\n",
    "    def __init__(self, lr=0.01):\n",
    "        self.learning_rate = lr\n",
    "    \n",
    "    def update_weights(self, orig_weights, delta_w):\n",
    "        return orig_weights - (self.learning_rate * delta_w)"
   ]
  },
  {
   "cell_type": "code",
   "execution_count": 71,
   "metadata": {
    "collapsed": false
   },
   "outputs": [],
   "source": [
    "class DenseLayer:\n",
    "    def __init__(self, input_feature_size, output_feature_size, activation_func, set_weight=None):\n",
    "        self.activation_func = activation_func\n",
    "        self.input_feature_size, self.output_feature_size = input_feature_size, output_feature_size\n",
    "        self.weight_matrix_shape = (output_feature_size, input_feature_size + 1) # +1 for bias weights\n",
    "        self.weights = set_weight\n",
    "    \n",
    "    # Weight_inits are of form (input_dim x output_dim)\n",
    "    def model_set(self, batch_size):\n",
    "        self.batch_size = batch_size\n",
    "        self.input_cache = np.zeros((batch_size, self.input_feature_size), dtype=np.float64)\n",
    "        self.net_cache = np.zeros((batch_size, self.output_feature_size), dtype=np.float64)\n",
    "        self.dv_out_net = np.zeros((batch_size, self.output_feature_size), dtype=np.float64)\n",
    "        self.sigmas = np.zeros((batch_size, self.output_feature_size), dtype=np.float64)\n",
    "        if self.weights is None:\n",
    "            h, w = self.weight_matrix_shape\n",
    "            weight_inits = (np.random.rand(h, w) ) \\\n",
    "                                / math.sqrt(self.input_feature_size)\n",
    "            self.weights = weight_inits.astype(dtype=np.float64)\n",
    "        self.delta_w = np.zeros(self.weight_matrix_shape, dtype=np.float64)\n",
    "    \n",
    "    def forward(self, layer_input):\n",
    "        np.copyto(self.input_cache, layer_input)\n",
    "        self.biased_layer_input = np.column_stack((layer_input, [1] * layer_input.shape[0]))\n",
    "        np.matmul(self.biased_layer_input, self.weights.transpose(), self.net_cache)\n",
    "        return self.activation_func(self.net_cache, derivative_of=False)\n",
    "    \n",
    "    def backward(self, dv_E_out):\n",
    "        self.activation_func(self.net_cache, derivative_of=True, out=self.dv_out_net)\n",
    "        np.multiply(dv_E_out, self.dv_out_net, out=self.sigmas)\n",
    "        np.matmul(self.sigmas.transpose(), self.biased_layer_input, out=self.delta_w)\n",
    "        return np.matmul(self.sigmas, self.weights[:, :-1]) # Removing bias terms for dv_E_in of next layer\n",
    "    \n",
    "    def update(self, optimizer):\n",
    "        self.weights = optimizer.update_weights(self.weights, (1. / self.batch_size) * self.delta_w)"
   ]
  },
  {
   "cell_type": "code",
   "execution_count": 55,
   "metadata": {
    "collapsed": false
   },
   "outputs": [],
   "source": [
    "class LayerModel:\n",
    "    def __init__(self, batch_size=1):\n",
    "        self.layers = []\n",
    "        self.forward_input_cache = None\n",
    "        self.batch_size = batch_size\n",
    "    \n",
    "    def add(self, in_layer):\n",
    "        self.layers.append(in_layer)\n",
    "    \n",
    "    def compile_net(self):\n",
    "        for layer in self.layers:\n",
    "            layer.model_set(self.batch_size)\n",
    "    \n",
    "    def forward(self, in_vec):\n",
    "        self.forward_input_cache = np.copy(in_vec)\n",
    "        output_cache = self.forward_input_cache\n",
    "        for layer in self.layers:\n",
    "            output_cache = layer.forward(output_cache)\n",
    "        self.output_cache = np.copy(output_cache)\n",
    "        return output_cache\n",
    "    \n",
    "    def backward(self, y_true, loss_func):\n",
    "        dv_E_out = loss_func(y_true, self.output_cache, derivative_of=True)\n",
    "        for layer in reversed(self.layers):\n",
    "            dv_E_out = layer.backward(dv_E_out)\n",
    "        return dv_E_out\n",
    "    \n",
    "    def update(self, optimizer):\n",
    "        for layer in self.layers:\n",
    "            layer.update(optimizer)\n",
    "    \n",
    "    def fit_std(self, x, y_true, epochs=100, loss_function=None, optimizer=None, verbosity=0):\n",
    "        loss_history = []\n",
    "        for i in range(epochs):\n",
    "            j = self.batch_size\n",
    "            loss_cache = []\n",
    "            num_batches = int(x.shape[0] / self.batch_size)\n",
    "            while j <= x.shape[0]:\n",
    "                st_time = time.time()\n",
    "                st, end = (j - self.batch_size, j)\n",
    "                y_pred = self.forward(x[st:end])\n",
    "                batch_loss = loss_function(y_true[st:end], y_pred)\n",
    "                loss_cache.append(batch_loss)\n",
    "                if verbosity >= 3:\n",
    "                    cur_batch_num = int(j / self.batch_size)\n",
    "                    out_str = 'Batch ' + str(cur_batch_num) + ' ' + str(num_batches) + ': '\n",
    "                    out_str += str(sum(batch_loss) / len(batch_loss))\n",
    "                    out_str += ' time: ' + str(int((time.time() - st_time) * 1000)) + 'ms'\n",
    "                    print(out_str)\n",
    "                d_w = self.backward(y_true[st:end], loss_function)\n",
    "                self.update(optimizer)\n",
    "                j += self.batch_size\n",
    "                st_time = time.time()\n",
    "            loss_history.append(np.sum(loss_cache,axis=0) / len(loss_cache))\n",
    "            if (verbosity >= 2) or ((i % int(epochs / 4)) == 0):\n",
    "                epoch_loss = loss_history[len(loss_history) - 1]\n",
    "                out_str = 'Epoch ' + str(i) + ' loss: ' + str(sum(epoch_loss) / len(epoch_loss))\n",
    "                print(out_str)\n",
    "            \n",
    "        return loss_history"
   ]
  },
  {
   "cell_type": "code",
   "execution_count": 82,
   "metadata": {
    "collapsed": true
   },
   "outputs": [],
   "source": [
    "# Starting weights\n",
    "input_vec = np.array([\n",
    "    [.05,.1],\n",
    "    [.10,.05]\n",
    "])\n",
    "true_y = np.array([\n",
    "    [.01,.99],\n",
    "    [.99,.01]\n",
    "])\n",
    "w_h = np.array([\n",
    "    [.15, .25, .35],\n",
    "    [.2,  .30,  .35]\n",
    "])\n",
    "w_o = np.array([\n",
    "    [.40, .45, .60],\n",
    "    [.50, .55, .60]\n",
    "])"
   ]
  },
  {
   "cell_type": "code",
   "execution_count": 95,
   "metadata": {
    "collapsed": false,
    "scrolled": true
   },
   "outputs": [
    {
     "name": "stdout",
     "output_type": "stream",
     "text": [
      "Epoch 0 loss: [ 0.29735654  0.78173905]\n",
      "Epoch 125000 loss: [  5.00000000e-05   3.46558597e-17]\n",
      "Epoch 250000 loss: [  5.00000000e-05   1.60094928e-26]\n",
      "Epoch 375000 loss: [  5.00000000e-05   1.60094928e-26]\n"
     ]
    }
   ],
   "source": [
    "model = LayerModel(batch_size=input_vec.shape[0])\n",
    "model.add(DenseLayer(2, 3, relu_func))\n",
    "model.add(DenseLayer(3, 2, relu_func))\n",
    "model.add(DenseLayer(2, 2, relu_func))\n",
    "model.compile_net()\n",
    "model_hist = model.fit_std(input_vec, true_y, epochs=500000, loss_function=mean_squared_error, optimizer=SGD(lr=0.01))"
   ]
  },
  {
   "cell_type": "code",
   "execution_count": 96,
   "metadata": {
    "collapsed": false,
    "scrolled": true
   },
   "outputs": [
    {
     "data": {
      "image/png": "[encoded data removed]",
      "text/plain": [
       "<matplotlib.figure.Figure at 0x151293cdb70>"
      ]
     },
     "metadata": {},
     "output_type": "display_data"
    }
   ],
   "source": [
    "plot_history(model_hist)"
   ]
  },
  {
   "cell_type": "markdown",
   "metadata": {},
   "source": [
    "# Convolutional Layer"
   ]
  },
  {
   "cell_type": "code",
   "execution_count": 70,
   "metadata": {
    "collapsed": true
   },
   "outputs": [],
   "source": [
    "class Conv2DLayer:\n",
    "    # input_feature_size should be tuple of (HxWxE)\n",
    "    # kernel_shape should be tuple of (MxNxD)\n",
    "    # set_weight should be numpy array of shape (MxNxD)\n",
    "    # subsample should be a tuple of (dMxdN)\n",
    "    def __init__(self, input_feature_size, kernel_shape, activation_func, stride=(1,1), set_weight=None):\n",
    "        self.activation_func = activation_func\n",
    "        self.input_feature_size = input_feature_size\n",
    "        self.weight_matrix_shape = kernel_shape\n",
    "        self.weights = set_weight\n",
    "        self.stride = stride\n",
    "    \n",
    "    def get_dims(self):\n",
    "        in_h, in_w, in_e = self.input_feature_size\n",
    "        kern_m, kern_n, kern_d = self.weight_matrix_shape\n",
    "        return (in_h, in_w, in_e, kern_m, kern_n, kern_d)\n",
    "    \n",
    "    # Weight_inits are of form (input_dim x output_dim)\n",
    "    def model_set(self, batch_size):\n",
    "        self.batch_size = batch_size\n",
    "        in_h, in_w, in_e, kern_m, kern_n, kern_d = self.get_dims()\n",
    "        self.input_shape = (batch_size, in_h, in_w, in_e)\n",
    "        self.output_size = (batch_size, (in_h - kern_m + 1), (in_w - kern_n + 1), kern_d)\n",
    "        self.input_cache = np.zeros(self.input_shape, dtype=np.float64)\n",
    "        self.net_cache = np.zeros(self.output_size, dtype=np.float64)\n",
    "        self.dv_out_net = np.zeros(self.output_size, dtype=np.float64)\n",
    "        self.sigmas = np.zeros(self.output_size, dtype=np.float64)\n",
    "        if self.weights is None:\n",
    "            in_h, in_w, in_e, kern_m, kern_n, kern_d = self.get_dims()\n",
    "            weight_inits = (np.random.rand(kern_m, kern_n, kern_d) ) \\\n",
    "                                / math.sqrt(kern_m * kern_n * in_e)\n",
    "            self.weights = np.copy(weight_inits)\n",
    "        self.dv_E_in = np.zeros(self.input_shape, dtype=np.float64)\n",
    "        self.delta_w = np.zeros(self.weight_matrix_shape, dtype=np.float64)\n",
    "    \n",
    "    def forward(self, layer_input):\n",
    "        np.copyto(self.input_cache, layer_input)\n",
    "        in_h, in_w, in_e, kern_m, kern_n, kern_d = self.get_dims()\n",
    "        self.net_cache = np.zeros(self.net_cache.shape, dtype=np.float64)\n",
    "        count = 0\n",
    "        for b in range(self.batch_size):                   # batch\n",
    "            for r in range(kern_d):                        # output feature map\n",
    "                for q in range(in_e):                      # input feature map\n",
    "                    for m in range(in_h - kern_m + 1):     # row in feature map\n",
    "                        for n in range(in_w - kern_n + 1): # column in feature map\n",
    "                            for k in range(kern_m):        # row in convolution kernel\n",
    "                                for l in range(kern_n):    # column in convolutional kernel\n",
    "                                    self.net_cache[b][m][n][r] += (\n",
    "                                        self.weights[k][l][r] * \n",
    "                                        self.input_cache[b][m+k][n+l][q]\n",
    "                                    )\n",
    "        return self.activation_func(self.net_cache, derivative_of=False)\n",
    "    \n",
    "    def backward(self, dv_E_out):\n",
    "        in_h, in_w, in_e, kern_m, kern_n, kern_d = self.get_dims()\n",
    "        self.activation_func(self.net_cache, derivative_of=True, out=self.dv_out_net)\n",
    "        np.multiply(dv_E_out, self.dv_out_net, out=self.sigmas)\n",
    "        \n",
    "        self.dv_E_in = np.zeros(self.dv_E_in.shape, dtype=np.float64)\n",
    "        self.delta_w = np.zeros(self.delta_w.shape, dtype=np.float64)\n",
    "        self.num_windows = (in_h - kern_m + 1) * (in_w - kern_n + 1)\n",
    "        for b in range(self.batch_size):                   # batch\n",
    "            for r in range(kern_d):                        # output feature map\n",
    "                for q in range(in_e):                      # input feature map\n",
    "                    for m in range(in_h - kern_m + 1):     # row in feature map\n",
    "                        for n in range(in_w - kern_n + 1): # column in feature map\n",
    "                            for k in range(kern_m):        # row in convolution kernel\n",
    "                                for l in range(kern_n):    # column in convolutional kernel\n",
    "                                    self.delta_w[k][l][r] += (\n",
    "                                        self.input_cache[b][m+k][n+l][q] *\n",
    "                                        self.sigmas[b][m][n][r]\n",
    "                                    )\n",
    "                                    self.dv_E_in[b][m+k][n+l][q] += self.sigmas[b][m][n][r]\n",
    "        return self.dv_E_in\n",
    "    \n",
    "    def update(self, optimizer):\n",
    "        self.weights = optimizer.update_weights(\n",
    "            self.weights, \n",
    "            (1. / (self.num_windows * self.batch_size)) * self.delta_w\n",
    "        )"
   ]
  },
  {
   "cell_type": "code",
   "execution_count": 69,
   "metadata": {
    "collapsed": false
   },
   "outputs": [],
   "source": [
    "class FlattenLayer:\n",
    "    def __init__(self, input_feature_size):\n",
    "        self.input_feature_size = input_feature_size\n",
    "        self.weight_matrix_shape = (0)\n",
    "\n",
    "    def model_set(self, batch_size):\n",
    "        in_h, in_w, in_e = self.input_feature_size\n",
    "        self.input_shape = (batch_size, in_h, in_w, in_e)\n",
    "        self.dv_E_in = np.zeros(self.input_shape)\n",
    "        self.output_cache = np.zeros((batch_size, in_h * in_w * in_e), dtype=np.float64)\n",
    "\n",
    "    def forward(self, layer_input):\n",
    "        for i, batch_i in enumerate(layer_input):\n",
    "            np.copyto(self.output_cache[i,:], batch_i.flatten())\n",
    "        return self.output_cache\n",
    "\n",
    "    def backward(self, dv_E_out):\n",
    "        for i, batch_i in enumerate(dv_E_out):\n",
    "            np.copyto(self.dv_E_in[i], batch_i.reshape(self.input_feature_size))\n",
    "        return self.dv_E_in\n",
    "\n",
    "    def update(self, optimizer):\n",
    "        return"
   ]
  },
  {
   "cell_type": "code",
   "execution_count": 68,
   "metadata": {
    "collapsed": true
   },
   "outputs": [],
   "source": [
    "class MaxPoolLayer:\n",
    "    # input_feature_size should be tuple (HxWxE)\n",
    "    # window should be tuple (HxW)\n",
    "    # stride should be tuple (dHxdW)\n",
    "    def __init__(self, input_feature_size, window=(2,2), stride=(2,2)):\n",
    "        self.input_feature_size = input_feature_size\n",
    "        self.window = window\n",
    "        self.stride = stride\n",
    "    \n",
    "    # Weight_inits are of form (input_dim x output_dim)\n",
    "    def model_set(self, batch_size):\n",
    "        self.batch_size = batch_size\n",
    "        in_h, in_w, in_e = self.input_feature_size\n",
    "        win_h, win_w = self.window\n",
    "        dh, dw = self.stride\n",
    "        self.input_shape = (batch_size, in_h, in_w, in_e)\n",
    "        self.output_shape = (\n",
    "            batch_size, \n",
    "            int(((in_h - win_h) / dh) + 1), \n",
    "            int(((in_w - win_w) / dw) + 1), \n",
    "            in_e\n",
    "        )\n",
    "        self.output_index_shape = (\n",
    "            batch_size, \n",
    "            int(((in_h - win_h) / dh) + 1), \n",
    "            int(((in_w - win_w) / dw) + 1), \n",
    "            in_e,\n",
    "            2\n",
    "        )\n",
    "        self.dv_E_in = np.zeros(self.input_shape, dtype=np.float64)\n",
    "        self.output_cache = np.zeros(self.output_shape, dtype=np.float64)\n",
    "        self.output_index_cache = np.zeros(self.output_index_shape, dtype=np.uint16)\n",
    "    \n",
    "    def forward(self, layer_input):\n",
    "        in_b, in_h, in_w, in_e = self.input_shape\n",
    "        win_h, win_w = self.window\n",
    "        dh, dw = self.stride\n",
    "        for b in range(in_b):                                # batch_i\n",
    "            for l in range(in_e):                            # layer in both input and output\n",
    "                for m in range(0, in_h - win_h + 2, dh):     # row in feature map\n",
    "                    for n in range(0, in_w - win_w + 2, dw): # column in feature map\n",
    "                        max_index = np.array(\n",
    "                            np.unravel_index(\n",
    "                                layer_input[b, m:m+dh, n:n+dw, l].argmax(),\n",
    "                                self.window\n",
    "                            ),\n",
    "                            dtype=np.uint16\n",
    "                        )\n",
    "                        max_index[0] += m\n",
    "                        max_index[1] += n\n",
    "                        self.output_cache[b, int(m/dh), int(n/dw), l] = layer_input[b, max_index[0], max_index[1], l]\n",
    "                        np.copyto(self.output_index_cache[b, int(m/dh), int(n/dw), l], max_index)\n",
    "        return self.output_cache\n",
    "    \n",
    "    def backward(self, dv_E_out):\n",
    "        self.dv_E_in[:,:,:,:] = 0.\n",
    "        in_b, in_h, in_w, in_e = self.input_shape\n",
    "        out_b, out_h, out_w, out_e = self.output_shape\n",
    "        for b in range(in_b):\n",
    "            for l in range(in_e):\n",
    "                for m in range(out_h):\n",
    "                    for n in range(out_w):\n",
    "                        max_index = self.output_index_cache[b, m, n, l]\n",
    "                        self.dv_E_in[b, max_index[0], max_index[1], l] = dv_E_out[b, m, n, l]\n",
    "        return self.dv_E_in\n",
    "    \n",
    "    def update(self, optimizer):\n",
    "        return"
   ]
  },
  {
   "cell_type": "code",
   "execution_count": 14,
   "metadata": {
    "collapsed": false
   },
   "outputs": [],
   "source": [
    "np.random.seed(1234)\n",
    "test_input = np.random.rand(2,3,3,2)\n",
    "test_true_y = np.array([\n",
    "    [.10, .99],\n",
    "    [.99, .10]\n",
    "])"
   ]
  },
  {
   "cell_type": "code",
   "execution_count": 179,
   "metadata": {
    "collapsed": false
   },
   "outputs": [
    {
     "name": "stdout",
     "output_type": "stream",
     "text": [
      "Epoch 0 loss: [ 0.96806654  1.13349254]\n",
      "Epoch 2500 loss: [  2.49221771e-08   2.36564857e-08]\n",
      "Epoch 5000 loss: [  3.00787623e-15   2.85511980e-15]\n",
      "Epoch 7500 loss: [  3.63076918e-22   3.44622005e-22]\n"
     ]
    }
   ],
   "source": [
    "model = LayerModel(batch_size=test_input.shape[0])\n",
    "model.add(Conv2DLayer((3,3,2), (2,2,2), relu_func))\n",
    "model.add(Conv2DLayer((2,2,2), (2,2,2), relu_func))\n",
    "model.add(FlattenLayer((1,1,2)))\n",
    "model.compile_net()\n",
    "model_hist = model.fit_std(\n",
    "    test_input, \n",
    "    test_true_y, \n",
    "    epochs=10000, \n",
    "    loss_function=mean_squared_error, \n",
    "    optimizer=SGD(lr=0.1)\n",
    ")"
   ]
  },
  {
   "cell_type": "code",
   "execution_count": 180,
   "metadata": {
    "collapsed": false
   },
   "outputs": [
    {
     "data": {
      "image/png": "[encoded data removed]",
      "text/plain": [
       "<matplotlib.figure.Figure at 0x151304e6b70>"
      ]
     },
     "metadata": {},
     "output_type": "display_data"
    }
   ],
   "source": [
    "plot_history(model_hist)"
   ]
  },
  {
   "cell_type": "markdown",
   "metadata": {},
   "source": [
    "### Testing Conv on MNIST"
   ]
  },
  {
   "cell_type": "code",
   "execution_count": 15,
   "metadata": {
    "collapsed": false
   },
   "outputs": [
    {
     "name": "stdout",
     "output_type": "stream",
     "text": [
      "x_train: (59999, 28, 28, 1)\n",
      "x_test: (9999, 28, 28, 1)\n"
     ]
    }
   ],
   "source": [
    "mnist_train = pd.read_csv('C:/Users/clfes/Downloads/mnist_train.csv').as_matrix()\n",
    "mnist_test = pd.read_csv('C:/Users/clfes/Downloads/mnist_test.csv').as_matrix()\n",
    "mnist_y_train_raw = mnist_train[:, 0]\n",
    "mnist_y_test_raw = mnist_test[:, 0]\n",
    "mnist_x_train = mnist_train[:, 1:].reshape(mnist_train.shape[0], 28, 28, 1)\n",
    "mnist_x_test = mnist_test[:, 1:].reshape(mnist_test.shape[0], 28, 28, 1)\n",
    "print('x_train: ' + str(mnist_x_train.shape))\n",
    "print('x_test: ' + str(mnist_x_test.shape))"
   ]
  },
  {
   "cell_type": "code",
   "execution_count": 16,
   "metadata": {
    "collapsed": false
   },
   "outputs": [
    {
     "data": {
      "text/plain": [
       "<matplotlib.image.AxesImage at 0x1978661e3c8>"
      ]
     },
     "execution_count": 16,
     "metadata": {},
     "output_type": "execute_result"
    },
    {
     "data": {
      "image/png": "[encoded data removed]",
      "text/plain": [
       "<matplotlib.figure.Figure at 0x19785c21f60>"
      ]
     },
     "metadata": {},
     "output_type": "display_data"
    }
   ],
   "source": [
    "im = Image.fromarray(np.uint8(mnist_x_test[3,:,:,0]))\n",
    "imshow(im)"
   ]
  },
  {
   "cell_type": "code",
   "execution_count": 17,
   "metadata": {
    "collapsed": true
   },
   "outputs": [],
   "source": [
    "def one_hot_encode(y, out_array):\n",
    "    for i in range(y.shape[0]):\n",
    "        out_array[i][y[i]] = 1"
   ]
  },
  {
   "cell_type": "code",
   "execution_count": 18,
   "metadata": {
    "collapsed": true
   },
   "outputs": [],
   "source": [
    "# Scale X's\n",
    "mnist_x_train = mnist_x_train / 255.\n",
    "mnist_x_test = mnist_x_test / 255.\n",
    "# One hot encode y's\n",
    "mnist_y_train = np.zeros((mnist_y_train_raw.shape[0], 10), dtype=np.uint8)\n",
    "mnist_y_test = np.zeros((mnist_y_test_raw.shape[0], 10), dtype=np.uint8)\n",
    "one_hot_encode(mnist_y_train_raw, mnist_y_train)\n",
    "one_hot_encode(mnist_y_test_raw, mnist_y_test)"
   ]
  },
  {
   "cell_type": "code",
   "execution_count": 73,
   "metadata": {
    "collapsed": false,
    "scrolled": true
   },
   "outputs": [
    {
     "name": "stdout",
     "output_type": "stream",
     "text": [
      "Batch 1 937: 0.344433732767 time: 8708ms\n"
     ]
    },
    {
     "ename": "KeyboardInterrupt",
     "evalue": "",
     "output_type": "error",
     "traceback": [
      "\u001b[0;31m---------------------------------------------------------------------------\u001b[0m",
      "\u001b[0;31mKeyboardInterrupt\u001b[0m                         Traceback (most recent call last)",
      "\u001b[0;32m<ipython-input-73-91cbd6cd7e97>\u001b[0m in \u001b[0;36m<module>\u001b[0;34m()\u001b[0m\n\u001b[1;32m     12\u001b[0m     \u001b[0mloss_function\u001b[0m\u001b[1;33m=\u001b[0m\u001b[0mcross_entropy\u001b[0m\u001b[1;33m,\u001b[0m\u001b[1;33m\u001b[0m\u001b[0m\n\u001b[1;32m     13\u001b[0m     \u001b[0moptimizer\u001b[0m\u001b[1;33m=\u001b[0m\u001b[0mSGD\u001b[0m\u001b[1;33m(\u001b[0m\u001b[0mlr\u001b[0m\u001b[1;33m=\u001b[0m\u001b[1;36m0.01\u001b[0m\u001b[1;33m)\u001b[0m\u001b[1;33m,\u001b[0m\u001b[1;33m\u001b[0m\u001b[0m\n\u001b[0;32m---> 14\u001b[0;31m     \u001b[0mverbosity\u001b[0m\u001b[1;33m=\u001b[0m\u001b[1;36m3\u001b[0m\u001b[1;33m\u001b[0m\u001b[0m\n\u001b[0m\u001b[1;32m     15\u001b[0m )\n",
      "\u001b[0;32m<ipython-input-55-e38111b6a423>\u001b[0m in \u001b[0;36mfit_std\u001b[0;34m(self, x, y_true, epochs, loss_function, optimizer, verbosity)\u001b[0m\n\u001b[1;32m     48\u001b[0m                     \u001b[0mout_str\u001b[0m \u001b[1;33m+=\u001b[0m \u001b[1;34m' time: '\u001b[0m \u001b[1;33m+\u001b[0m \u001b[0mstr\u001b[0m\u001b[1;33m(\u001b[0m\u001b[0mint\u001b[0m\u001b[1;33m(\u001b[0m\u001b[1;33m(\u001b[0m\u001b[0mtime\u001b[0m\u001b[1;33m.\u001b[0m\u001b[0mtime\u001b[0m\u001b[1;33m(\u001b[0m\u001b[1;33m)\u001b[0m \u001b[1;33m-\u001b[0m \u001b[0mst_time\u001b[0m\u001b[1;33m)\u001b[0m \u001b[1;33m*\u001b[0m \u001b[1;36m1000\u001b[0m\u001b[1;33m)\u001b[0m\u001b[1;33m)\u001b[0m \u001b[1;33m+\u001b[0m \u001b[1;34m'ms'\u001b[0m\u001b[1;33m\u001b[0m\u001b[0m\n\u001b[1;32m     49\u001b[0m                     \u001b[0mprint\u001b[0m\u001b[1;33m(\u001b[0m\u001b[0mout_str\u001b[0m\u001b[1;33m)\u001b[0m\u001b[1;33m\u001b[0m\u001b[0m\n\u001b[0;32m---> 50\u001b[0;31m                 \u001b[0md_w\u001b[0m \u001b[1;33m=\u001b[0m \u001b[0mself\u001b[0m\u001b[1;33m.\u001b[0m\u001b[0mbackward\u001b[0m\u001b[1;33m(\u001b[0m\u001b[0my_true\u001b[0m\u001b[1;33m[\u001b[0m\u001b[0mst\u001b[0m\u001b[1;33m:\u001b[0m\u001b[0mend\u001b[0m\u001b[1;33m]\u001b[0m\u001b[1;33m,\u001b[0m \u001b[0mloss_function\u001b[0m\u001b[1;33m)\u001b[0m\u001b[1;33m\u001b[0m\u001b[0m\n\u001b[0m\u001b[1;32m     51\u001b[0m                 \u001b[0mself\u001b[0m\u001b[1;33m.\u001b[0m\u001b[0mupdate\u001b[0m\u001b[1;33m(\u001b[0m\u001b[0moptimizer\u001b[0m\u001b[1;33m)\u001b[0m\u001b[1;33m\u001b[0m\u001b[0m\n\u001b[1;32m     52\u001b[0m                 \u001b[0mj\u001b[0m \u001b[1;33m+=\u001b[0m \u001b[0mself\u001b[0m\u001b[1;33m.\u001b[0m\u001b[0mbatch_size\u001b[0m\u001b[1;33m\u001b[0m\u001b[0m\n",
      "\u001b[0;32m<ipython-input-55-e38111b6a423>\u001b[0m in \u001b[0;36mbackward\u001b[0;34m(self, y_true, loss_func)\u001b[0m\n\u001b[1;32m     23\u001b[0m         \u001b[0mdv_E_out\u001b[0m \u001b[1;33m=\u001b[0m \u001b[0mloss_func\u001b[0m\u001b[1;33m(\u001b[0m\u001b[0my_true\u001b[0m\u001b[1;33m,\u001b[0m \u001b[0mself\u001b[0m\u001b[1;33m.\u001b[0m\u001b[0moutput_cache\u001b[0m\u001b[1;33m,\u001b[0m \u001b[0mderivative_of\u001b[0m\u001b[1;33m=\u001b[0m\u001b[1;32mTrue\u001b[0m\u001b[1;33m)\u001b[0m\u001b[1;33m\u001b[0m\u001b[0m\n\u001b[1;32m     24\u001b[0m         \u001b[1;32mfor\u001b[0m \u001b[0mlayer\u001b[0m \u001b[1;32min\u001b[0m \u001b[0mreversed\u001b[0m\u001b[1;33m(\u001b[0m\u001b[0mself\u001b[0m\u001b[1;33m.\u001b[0m\u001b[0mlayers\u001b[0m\u001b[1;33m)\u001b[0m\u001b[1;33m:\u001b[0m\u001b[1;33m\u001b[0m\u001b[0m\n\u001b[0;32m---> 25\u001b[0;31m             \u001b[0mdv_E_out\u001b[0m \u001b[1;33m=\u001b[0m \u001b[0mlayer\u001b[0m\u001b[1;33m.\u001b[0m\u001b[0mbackward\u001b[0m\u001b[1;33m(\u001b[0m\u001b[0mdv_E_out\u001b[0m\u001b[1;33m)\u001b[0m\u001b[1;33m\u001b[0m\u001b[0m\n\u001b[0m\u001b[1;32m     26\u001b[0m         \u001b[1;32mreturn\u001b[0m \u001b[0mdv_E_out\u001b[0m\u001b[1;33m\u001b[0m\u001b[0m\n\u001b[1;32m     27\u001b[0m \u001b[1;33m\u001b[0m\u001b[0m\n",
      "\u001b[0;32m<ipython-input-70-af9102d0eaf5>\u001b[0m in \u001b[0;36mbackward\u001b[0;34m(self, dv_E_out)\u001b[0m\n\u001b[1;32m     66\u001b[0m                             \u001b[1;32mfor\u001b[0m \u001b[0mk\u001b[0m \u001b[1;32min\u001b[0m \u001b[0mrange\u001b[0m\u001b[1;33m(\u001b[0m\u001b[0mkern_m\u001b[0m\u001b[1;33m)\u001b[0m\u001b[1;33m:\u001b[0m        \u001b[1;31m# row in convolution kernel\u001b[0m\u001b[1;33m\u001b[0m\u001b[0m\n\u001b[1;32m     67\u001b[0m                                 \u001b[1;32mfor\u001b[0m \u001b[0ml\u001b[0m \u001b[1;32min\u001b[0m \u001b[0mrange\u001b[0m\u001b[1;33m(\u001b[0m\u001b[0mkern_n\u001b[0m\u001b[1;33m)\u001b[0m\u001b[1;33m:\u001b[0m    \u001b[1;31m# column in convolutional kernel\u001b[0m\u001b[1;33m\u001b[0m\u001b[0m\n\u001b[0;32m---> 68\u001b[0;31m                                     self.delta_w[k][l][r] += (\n\u001b[0m\u001b[1;32m     69\u001b[0m                                         \u001b[0mself\u001b[0m\u001b[1;33m.\u001b[0m\u001b[0minput_cache\u001b[0m\u001b[1;33m[\u001b[0m\u001b[0mb\u001b[0m\u001b[1;33m]\u001b[0m\u001b[1;33m[\u001b[0m\u001b[0mm\u001b[0m\u001b[1;33m+\u001b[0m\u001b[0mk\u001b[0m\u001b[1;33m]\u001b[0m\u001b[1;33m[\u001b[0m\u001b[0mn\u001b[0m\u001b[1;33m+\u001b[0m\u001b[0ml\u001b[0m\u001b[1;33m]\u001b[0m\u001b[1;33m[\u001b[0m\u001b[0mq\u001b[0m\u001b[1;33m]\u001b[0m \u001b[1;33m*\u001b[0m\u001b[1;33m\u001b[0m\u001b[0m\n\u001b[1;32m     70\u001b[0m                                         \u001b[0mself\u001b[0m\u001b[1;33m.\u001b[0m\u001b[0msigmas\u001b[0m\u001b[1;33m[\u001b[0m\u001b[0mb\u001b[0m\u001b[1;33m]\u001b[0m\u001b[1;33m[\u001b[0m\u001b[0mm\u001b[0m\u001b[1;33m]\u001b[0m\u001b[1;33m[\u001b[0m\u001b[0mn\u001b[0m\u001b[1;33m]\u001b[0m\u001b[1;33m[\u001b[0m\u001b[0mr\u001b[0m\u001b[1;33m]\u001b[0m\u001b[1;33m\u001b[0m\u001b[0m\n",
      "\u001b[0;31mKeyboardInterrupt\u001b[0m: "
     ]
    }
   ],
   "source": [
    "model = LayerModel(batch_size=64)\n",
    "model.add(Conv2DLayer((28,28,1), (3,3,4), relu_func))\n",
    "model.add(MaxPoolLayer((26,26,4), window=(2,2), stride=(2,2)))\n",
    "model.add(Conv2DLayer((13,13,4), (3,3,8), relu_func))\n",
    "model.add(FlattenLayer((11,11,8)))\n",
    "model.add(DenseLayer(968, 10, softmax_func))\n",
    "model.compile_net()\n",
    "model_hist = model.fit_std(\n",
    "    mnist_x_train,\n",
    "    mnist_y_train,\n",
    "    epochs=1,\n",
    "    loss_function=cross_entropy,\n",
    "    optimizer=SGD(lr=0.01),\n",
    "    verbosity=3\n",
    ")"
   ]
  },
  {
   "cell_type": "code",
   "execution_count": null,
   "metadata": {
    "collapsed": true
   },
   "outputs": [],
   "source": []
  },
  {
   "cell_type": "markdown",
   "metadata": {},
   "source": [
    "# Dropout"
   ]
  },
  {
   "cell_type": "code",
   "execution_count": null,
   "metadata": {
    "collapsed": true
   },
   "outputs": [],
   "source": []
  },
  {
   "cell_type": "markdown",
   "metadata": {},
   "source": [
    "# Batch Normalization"
   ]
  },
  {
   "cell_type": "code",
   "execution_count": null,
   "metadata": {
    "collapsed": true
   },
   "outputs": [],
   "source": []
  }
 ],
 "metadata": {
  "kernelspec": {
   "display_name": "Python 3",
   "language": "python",
   "name": "python3"
  },
  "language_info": {
   "codemirror_mode": {
    "name": "ipython",
    "version": 3
   },
   "file_extension": ".py",
   "mimetype": "text/x-python",
   "name": "python",
   "nbconvert_exporter": "python",
   "pygments_lexer": "ipython3",
   "version": "3.6.0"
  }
 },
 "nbformat": 4,
 "nbformat_minor": 2
}
