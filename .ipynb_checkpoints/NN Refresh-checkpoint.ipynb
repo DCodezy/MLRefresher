{
 "cells": [
  {
   "cell_type": "markdown",
   "metadata": {},
   "source": [
    "# Refresher on Backpropagating through Neural Networks\n",
    "This will be based on the network decsribed in https://mattmazur.com/2015/03/17/a-step-by-step-backpropagation-example/"
   ]
  },
  {
   "cell_type": "code",
   "execution_count": 1,
   "metadata": {
    "collapsed": true
   },
   "outputs": [],
   "source": [
    "import math\n",
    "import numpy as np\n",
    "import matplotlib.pyplot as plt\n",
    "from pylab import *\n",
    "\n",
    "%matplotlib inline"
   ]
  },
  {
   "cell_type": "code",
   "execution_count": 2,
   "metadata": {
    "collapsed": true
   },
   "outputs": [],
   "source": [
    "def sigmoid_func(in_vec, derivative_of=False):\n",
    "    if not derivative_of:\n",
    "        return 1 / (1 + np.exp(-in_vec))\n",
    "    base_value = sigmoid_func(in_vec, derivative_of=False)\n",
    "    return np.multiply(base_value, (1 - base_value))"
   ]
  },
  {
   "cell_type": "code",
   "execution_count": 3,
   "metadata": {
    "collapsed": true
   },
   "outputs": [],
   "source": [
    "def relu_func(in_vec, derivative_of=False, out=None):\n",
    "    if not derivative_of:\n",
    "        if out is None:\n",
    "            return np.maximum(in_vec, 0)\n",
    "        np.maximum(in_vec, 0, out=out)\n",
    "        return\n",
    "    if out is None:\n",
    "        out = np.copy(in_vec)\n",
    "        out[out >= 0] = 1\n",
    "        out[out < 0] = 0\n",
    "        return out  \n",
    "    else:\n",
    "        np.copyto(out, in_vec)\n",
    "        out[out > 0] = 1\n",
    "        out[out <= 0] = 0\n",
    "        return"
   ]
  },
  {
   "cell_type": "code",
   "execution_count": 126,
   "metadata": {
    "collapsed": true
   },
   "outputs": [],
   "source": [
    "def mean_squared_error(true_y, pred_y, derivative_of=False):\n",
    "    if not derivative_of:\n",
    "        return (1 / 2) * np.sum((true_y - pred_y) ** 2, axis=1)\n",
    "    return pred_y - true_y"
   ]
  },
  {
   "cell_type": "code",
   "execution_count": 5,
   "metadata": {
    "collapsed": true
   },
   "outputs": [],
   "source": [
    "def stochastic_gradient_descent(orig_layer_w, layer_delta_w, learning_rate=0.1):\n",
    "    return orig_layer_w - (learning_rate * layer_delta_w)"
   ]
  },
  {
   "cell_type": "code",
   "execution_count": 137,
   "metadata": {
    "collapsed": false
   },
   "outputs": [],
   "source": [
    "# Class global variables: \n",
    "# add_bias, networks_weights, layers_activations, batch_size, num_layers, network_value_cache\n",
    "class BasicModel:\n",
    "    def __init__(self, init_weights, layer_activations, add_bias=True, batch_size=None):\n",
    "        if len(init_weights) != len(layer_activations):\n",
    "            raise ValueError('Lengths of init_weights (' + str(len(init_weights)) + \n",
    "                             ') and layer_activations (' + str(len(layer_activations)) + \n",
    "                             ') not equal')\n",
    "        self.add_bias = add_bias\n",
    "        self.network_weights = np.copy(init_weights)\n",
    "        self.layers_activations = np.copy(layer_activations)\n",
    "        if batch_size is None:\n",
    "            batch_size = 1\n",
    "        self.batch_size = batch_size\n",
    "        self.num_layers = len(init_weights)\n",
    "        value_cache_layout = []\n",
    "        for layer_weight_base in self.network_weights:\n",
    "            output_shape = (batch_size, layer_weight_base.shape[0])\n",
    "            zeros = [[0.] * layer_weight_base.shape[0]] * batch_size\n",
    "            value_cache_layout.append([zeros, zeros])\n",
    "        self.network_value_cache = value_cache_layout\n",
    "    \n",
    "    def forward_pass(self, in_vec):\n",
    "        if len(in_vec.shape) == 1:\n",
    "            output_cache = in_vec.reshape((1, in_vec.shape[0]))\n",
    "        else:\n",
    "            output_cache = np.copy(in_vec)\n",
    "        self.input_cache = np.copy(output_cache)\n",
    "\n",
    "        for i, (layer_weights, activation) in enumerate(zip(self.network_weights, self.layers_activations)):\n",
    "            if self.add_bias:\n",
    "                bias_terms = [1] * output_cache.shape[0]\n",
    "                output_cache = np.column_stack((output_cache, bias_terms))\n",
    "            self.network_value_cache[i][0] = np.matmul(output_cache, layer_weights.transpose())\n",
    "            self.network_value_cache[i][1] = activation(self.network_value_cache[i][0])\n",
    "            output_cache = self.network_value_cache[i][1]\n",
    "        return self.network_value_cache[len(self.network_value_cache) - 1][1]\n",
    "    \n",
    "    def backward_pass(self, y_true):\n",
    "        sigma_cache = []\n",
    "        # Backprop last layer and calculate sigma oi's\n",
    "        net_out, layer_out = self.network_value_cache[len(self.network_value_cache) - 1]\n",
    "        div_E_out = layer_out - y_true\n",
    "        div_out_net = self.layers_activations[len(self.layers_activations) - 1](net_out, derivative_of=True)\n",
    "        div_E_net = np.multiply(div_E_out, div_out_net)   # This is the sigma for this layer\n",
    "        sigma_cache.append(div_E_net)\n",
    "        \n",
    "        # Backprop through rest of layers\n",
    "        num_hidden_layers = len(self.network_value_cache) - 1 # Subtract 1 because we take care of last layer already\n",
    "        for i in reversed(range(0, num_hidden_layers)):\n",
    "            net_out, layer_out = self.network_value_cache[i]\n",
    "            div_E_out = np.matmul(\n",
    "                sigma_cache[num_hidden_layers - i - 2],\n",
    "                self.network_weights[i + 1][:, :-1], \n",
    "            )\n",
    "            div_out_net = self.layers_activations[i](net_out, derivative_of=True)\n",
    "            div_E_net = np.multiply(div_E_out, div_out_net)\n",
    "            sigma_cache.append(div_E_net)\n",
    "        sigma_cache = list(reversed(sigma_cache))\n",
    "        \n",
    "        # Forward through sigmas and w's to get dW's\n",
    "        delta_w = []\n",
    "        # Do first layer separately because using input X rather than previous layer output\n",
    "        if self.add_bias:\n",
    "            bias_terms = [1] * self.input_cache.shape[0]\n",
    "            layer_input = np.column_stack((self.input_cache, bias_terms))\n",
    "        else:\n",
    "            layer_input = self.input_cache.transpose()\n",
    "        div_E_w = np.matmul(sigma_cache[0].transpose(), layer_input)\n",
    "        delta_w.append((1 / self.batch_size) * div_E_w)\n",
    "        # Do the rest of the layers\n",
    "        for i, layer_sigma in enumerate(sigma_cache[1:]):\n",
    "            prev_net_out, prev_layer_out = self.network_value_cache[i]\n",
    "            if self.add_bias:\n",
    "                bias_terms = [1] * prev_layer_out.shape[0]\n",
    "                layer_input = np.column_stack((prev_layer_out, bias_terms))\n",
    "            else:\n",
    "                layer_input = prev_layer_out\n",
    "            div_E_w = np.matmul(layer_sigma.transpose(), layer_input)\n",
    "            delta_w.append((1 / self.batch_size) * div_E_w)\n",
    "        # Average over minibatch and return dW's\n",
    "        return delta_w\n",
    "    \n",
    "    def predict(self, in_vec):\n",
    "        if len(in_vec.shape) == 1:\n",
    "            output_cache = in_vec.reshape((1, in_vec.shape[0]))\n",
    "        else:\n",
    "            output_cache = np.copy(in_vec)\n",
    "        self.input_cache = np.copy(output_cache)\n",
    "\n",
    "        for i, (layer_weights, activation) in enumerate(zip(self.network_weights, self.layers_activations)):\n",
    "            if self.add_bias:\n",
    "                bias_terms = [1] * output_cache.shape[0]\n",
    "                output_cache = np.column_stack((output_cache, bias_terms))\n",
    "            net_sum = np.matmul(output_cache, layer_weights.transpose())\n",
    "            output_cache = activation(net_sum)\n",
    "        return output_cache\n",
    "    \n",
    "    def update(self, delta_w, optimizer_func, lr):\n",
    "        for i, layer_delta_w in enumerate(delta_w):\n",
    "            self.network_weights[i] = optimizer_func(self.network_weights[i], layer_delta_w, lr)\n",
    "    \n",
    "    def fit_std(self, x, y_true, epochs=100, loss_function=None, optimizer_func=None, lr=0.1):\n",
    "        loss_history = []\n",
    "        for i in range(epochs):\n",
    "            y_pred = self.forward_pass(x)\n",
    "            loss_history.append(loss_function(y_true, y_pred))\n",
    "            if (i % int(epochs / 4)) == 0:\n",
    "                print('Epoch ' + str(i) + ' loss: ' + str(loss_history[len(loss_history) - 1]))\n",
    "            d_w = self.backward_pass(y_true)\n",
    "            self.update(d_w, optimizer_func, lr=lr)\n",
    "        return loss_history"
   ]
  },
  {
   "cell_type": "code",
   "execution_count": 138,
   "metadata": {
    "collapsed": true
   },
   "outputs": [],
   "source": [
    "def plot_history(model_history):\n",
    "    ax1, ax2 = plt.subplot(211), plt.subplot(212)\n",
    "    ax1.plot(model_hist)\n",
    "    ax1.set_xscale('log')\n",
    "    ax1.set_ylabel('loss')\n",
    "    ax2.plot(model_hist)\n",
    "    ax2.set_yscale('log')\n",
    "    ax2.set_ylabel('loss')\n",
    "    ax2.set_xlabel('epoch')\n",
    "    plt.show()"
   ]
  },
  {
   "cell_type": "markdown",
   "metadata": {},
   "source": [
    "## Small (2 layer) NN"
   ]
  },
  {
   "cell_type": "code",
   "execution_count": 15,
   "metadata": {
    "collapsed": true
   },
   "outputs": [],
   "source": [
    "# Starting weights\n",
    "input_vec = np.array([.05,.1])\n",
    "true_y = np.array([.01,.99])\n",
    "w_h = np.array([\n",
    "    [.15, .25, .35],\n",
    "    [.2,  .30,  .35]\n",
    "])\n",
    "w_o = np.array([\n",
    "    [.40, .45, .60],\n",
    "    [.50, .55, .60]\n",
    "])"
   ]
  },
  {
   "cell_type": "code",
   "execution_count": 16,
   "metadata": {
    "collapsed": false,
    "scrolled": true
   },
   "outputs": [
    {
     "name": "stdout",
     "output_type": "stream",
     "text": [
      "Epoch 0 loss: [ 0.29839005]\n",
      "Epoch 7500 loss: [  5.67232090e-06]\n",
      "Epoch 15000 loss: [  5.64907152e-07]\n",
      "Epoch 22500 loss: [  7.88482582e-08]\n",
      "Epoch 30000 loss: [  1.22081756e-08]\n",
      "Epoch 0 loss: [  1.22051804e-08]\n",
      "Epoch 7500 loss: [  4.88190422e-09]\n",
      "Epoch 15000 loss: [  1.96384730e-09]\n",
      "Epoch 22500 loss: [  7.92871574e-10]\n",
      "Epoch 30000 loss: [  3.20861358e-10]\n",
      "Epoch 0 loss: [  3.20822696e-10]\n",
      "Epoch 7500 loss: [  2.23519974e-10]\n",
      "Epoch 15000 loss: [  1.55760756e-10]\n",
      "Epoch 22500 loss: [  1.08561868e-10]\n",
      "Epoch 30000 loss: [  7.56769253e-11]\n",
      "Epoch 0 loss: [  7.56732850e-11]\n",
      "Epoch 7500 loss: [  7.29919058e-11]\n",
      "Epoch 15000 loss: [  7.04056304e-11]\n",
      "Epoch 22500 loss: [  6.79110811e-11]\n",
      "Epoch 30000 loss: [  6.55050005e-11]\n",
      "Epoch 0 loss: [  6.55046855e-11]\n",
      "Epoch 7500 loss: [  6.52688227e-11]\n",
      "Epoch 15000 loss: [  6.50338099e-11]\n",
      "Epoch 22500 loss: [  6.47996442e-11]\n",
      "Epoch 30000 loss: [  6.45663225e-11]\n"
     ]
    }
   ],
   "source": [
    "model = BasicModel(init_weights=[w_h, w_o], layer_activations=[sigmoid_func, sigmoid_func])\n",
    "\n",
    "model_hist = []\n",
    "for lr in [0.5, 0.25, 0.1, 0.01, 0.001]:\n",
    "    epoch_hist = model.fit_std(\n",
    "        x=input_vec, \n",
    "        y_true=true_y, \n",
    "        epochs=30001, \n",
    "        loss_function=mean_squared_error, \n",
    "        optimizer_func=stochastic_gradient_descent,\n",
    "        lr=lr\n",
    "    )\n",
    "    model_hist += epoch_hist"
   ]
  },
  {
   "cell_type": "code",
   "execution_count": 21,
   "metadata": {
    "collapsed": false
   },
   "outputs": [
    {
     "data": {
      "image/png": "[encoded data removed]",
      "text/plain": [
       "<matplotlib.figure.Figure at 0x2120fcb37b8>"
      ]
     },
     "metadata": {},
     "output_type": "display_data"
    }
   ],
   "source": [
    "plot_history(model_hist)"
   ]
  },
  {
   "cell_type": "code",
   "execution_count": 22,
   "metadata": {
    "collapsed": false
   },
   "outputs": [
    {
     "name": "stdout",
     "output_type": "stream",
     "text": [
      "True y: [ 0.01  0.99]\n",
      "Predicted y: [[ 0.01000853  0.98999249]]\n"
     ]
    }
   ],
   "source": [
    "y_pred = model.forward_pass(input_vec)\n",
    "print('True y: ' + str(true_y))\n",
    "print('Predicted y: ' + str(y_pred))"
   ]
  },
  {
   "cell_type": "markdown",
   "metadata": {},
   "source": [
    "## Larger (3 layer) 2->3->2->2 NN"
   ]
  },
  {
   "cell_type": "code",
   "execution_count": 13,
   "metadata": {
    "collapsed": true
   },
   "outputs": [],
   "source": [
    "# Starting weights\n",
    "input_vec2 = np.array([.05,.1])\n",
    "true_y2 = np.array([.01,.99])\n",
    "w_h21 = np.array([\n",
    "    [.40, .30, .50],\n",
    "    [.70, .63, .33],\n",
    "    [.23, .43, .73]\n",
    "])\n",
    "w_h22 = np.array([\n",
    "    [.15, .25, .66, .35],\n",
    "    [.2,  .30, .29, .35]\n",
    "])\n",
    "w_o2 = np.array([\n",
    "    [.40, .45, .60],\n",
    "    [.50, .55, .60]\n",
    "])"
   ]
  },
  {
   "cell_type": "code",
   "execution_count": 15,
   "metadata": {
    "collapsed": false,
    "scrolled": true
   },
   "outputs": [
    {
     "name": "stdout",
     "output_type": "stream",
     "text": [
      "Epoch 0 loss: [ 0.30830438]\n",
      "Epoch 25000 loss: [  1.81211777e-08]\n",
      "Epoch 50000 loss: [  1.96869385e-11]\n",
      "Epoch 75000 loss: [  2.24897203e-14]\n",
      "Epoch 100000 loss: [  2.58142753e-17]\n",
      "Epoch 0 loss: [  2.58072875e-17]\n",
      "Epoch 25000 loss: [  8.76023955e-19]\n",
      "Epoch 50000 loss: [  2.97861153e-20]\n",
      "Epoch 75000 loss: [  1.01497461e-21]\n",
      "Epoch 100000 loss: [  3.46839431e-23]\n",
      "Epoch 0 loss: [  3.46787787e-23]\n",
      "Epoch 25000 loss: [  8.99695719e-24]\n",
      "Epoch 50000 loss: [  2.33760414e-24]\n",
      "Epoch 75000 loss: [  6.04050618e-25]\n",
      "Epoch 100000 loss: [  1.59646786e-25]\n",
      "Epoch 0 loss: [  1.59642774e-25]\n",
      "Epoch 25000 loss: [  1.59642774e-25]\n",
      "Epoch 50000 loss: [  1.59642774e-25]\n",
      "Epoch 75000 loss: [  1.59642774e-25]\n",
      "Epoch 100000 loss: [  1.59642774e-25]\n",
      "Epoch 0 loss: [  1.59642774e-25]\n",
      "Epoch 25000 loss: [  1.59642774e-25]\n",
      "Epoch 50000 loss: [  1.59642774e-25]\n",
      "Epoch 75000 loss: [  1.59642774e-25]\n",
      "Epoch 100000 loss: [  1.59642774e-25]\n"
     ]
    }
   ],
   "source": [
    "model_big = BasicModel(\n",
    "    init_weights=[w_h21, w_h22, w_o2], \n",
    "    layer_activations=[sigmoid_func, sigmoid_func, sigmoid_func]\n",
    ")\n",
    "\n",
    "model_hist = []\n",
    "for lr in [0.5, 0.25, 0.1, 0.01, 0.001]:\n",
    "    epoch_hist = model_big.fit_std(\n",
    "        x=input_vec2, \n",
    "        y_true=true_y2, \n",
    "        epochs=100001, \n",
    "        loss_function=mean_squared_error, \n",
    "        optimizer_func=stochastic_gradient_descent,\n",
    "        lr=lr\n",
    "    )\n",
    "    model_hist += epoch_hist"
   ]
  },
  {
   "cell_type": "code",
   "execution_count": 32,
   "metadata": {
    "collapsed": false
   },
   "outputs": [
    {
     "data": {
      "image/png": "[encoded data removed]",
      "text/plain": [
       "<matplotlib.figure.Figure at 0x21211634ba8>"
      ]
     },
     "metadata": {},
     "output_type": "display_data"
    }
   ],
   "source": [
    "plot_history(model_hist)"
   ]
  },
  {
   "cell_type": "code",
   "execution_count": 33,
   "metadata": {
    "collapsed": false
   },
   "outputs": [
    {
     "name": "stdout",
     "output_type": "stream",
     "text": [
      "True y: [ 0.01  0.99]\n",
      "Predicted y: [[ 0.01  0.99]]\n"
     ]
    }
   ],
   "source": [
    "y_pred = model_big.forward_pass(input_vec2)\n",
    "print('True y: ' + str(true_y2))\n",
    "print('Predicted y: ' + str(y_pred))"
   ]
  },
  {
   "cell_type": "code",
   "execution_count": 34,
   "metadata": {
    "collapsed": false
   },
   "outputs": [
    {
     "data": {
      "text/plain": [
       "array([ array([[ 0.39828278,  0.29656556,  0.46565555],\n",
       "       [ 0.69673126,  0.62346252,  0.26462525],\n",
       "       [ 0.21480253,  0.39960506,  0.42605059]]),\n",
       "       array([[ 0.41042405,  0.49537639,  0.92315088,  0.76628642],\n",
       "       [ 0.46430831,  0.54896316,  0.5565346 ,  0.77261816]]),\n",
       "       array([[-1.59381313, -1.45148161, -1.97847675],\n",
       "       [ 1.55382308,  1.56165418,  1.91960895]])], dtype=object)"
      ]
     },
     "execution_count": 34,
     "metadata": {},
     "output_type": "execute_result"
    }
   ],
   "source": [
    "model_big.network_weights"
   ]
  },
  {
   "cell_type": "markdown",
   "metadata": {},
   "source": [
    "## ReLU Network"
   ]
  },
  {
   "cell_type": "code",
   "execution_count": 35,
   "metadata": {
    "collapsed": true
   },
   "outputs": [],
   "source": [
    "# Starting weights\n",
    "input_vec3 = np.array([.05,.1])\n",
    "true_y3 = np.array([.01,.99])\n",
    "w_h31 = np.array([\n",
    "    [.40, .30, .50],\n",
    "    [.70, .63, .33],\n",
    "    [.23, .43, .73]\n",
    "])\n",
    "w_h32 = np.array([\n",
    "    [.15, .25, .66, .35],\n",
    "    [.2,  .30, .29, .35]\n",
    "])\n",
    "w_o3 = np.array([\n",
    "    [.40, .45, .60],\n",
    "    [.50, .55, .60]\n",
    "])"
   ]
  },
  {
   "cell_type": "markdown",
   "metadata": {},
   "source": [
    "### ReLU network dies with high Learning Rate"
   ]
  },
  {
   "cell_type": "code",
   "execution_count": 36,
   "metadata": {
    "collapsed": false,
    "scrolled": true
   },
   "outputs": [
    {
     "name": "stdout",
     "output_type": "stream",
     "text": [
      "Epoch 0 loss: 1.12479929463\n",
      "Epoch 7500 loss: 5e-05\n",
      "Epoch 15000 loss: 5e-05\n",
      "Epoch 22500 loss: 5e-05\n",
      "Epoch 30000 loss: 5e-05\n",
      "Epoch 0 loss: 5e-05\n",
      "Epoch 7500 loss: 5e-05\n",
      "Epoch 15000 loss: 5e-05\n",
      "Epoch 22500 loss: 5e-05\n",
      "Epoch 30000 loss: 5e-05\n",
      "Epoch 0 loss: 5e-05\n",
      "Epoch 7500 loss: 5e-05\n",
      "Epoch 15000 loss: 5e-05\n",
      "Epoch 22500 loss: 5e-05\n",
      "Epoch 30000 loss: 5e-05\n"
     ]
    }
   ],
   "source": [
    "model_big_relu = BasicModel(\n",
    "    init_weights=[w_h31, w_h32, w_o3], \n",
    "    layer_activations=[relu_func, relu_func, relu_func]\n",
    ")\n",
    "\n",
    "model_hist = []\n",
    "for lr in [0.5, 0.01, 0.001]:\n",
    "    epoch_hist = model_big_relu.fit_std(\n",
    "        x=input_vec3, \n",
    "        y_true=true_y3, \n",
    "        epochs=30001, \n",
    "        loss_function=mean_squared_error, \n",
    "        optimizer_func=stochastic_gradient_descent,\n",
    "        lr=lr\n",
    "    )\n",
    "    model_hist += epoch_hist"
   ]
  },
  {
   "cell_type": "code",
   "execution_count": 37,
   "metadata": {
    "collapsed": false
   },
   "outputs": [
    {
     "data": {
      "image/png": "[encoded data removed]",
      "text/plain": [
       "<matplotlib.figure.Figure at 0x212110f4e10>"
      ]
     },
     "metadata": {},
     "output_type": "display_data"
    }
   ],
   "source": [
    "plot_history(model_hist)"
   ]
  },
  {
   "cell_type": "markdown",
   "metadata": {},
   "source": [
    "### A more reasonable Learning Rate"
   ]
  },
  {
   "cell_type": "code",
   "execution_count": 38,
   "metadata": {
    "collapsed": false
   },
   "outputs": [
    {
     "name": "stdout",
     "output_type": "stream",
     "text": [
      "Epoch 0 loss: 1.12479929463\n",
      "Epoch 7500 loss: 3.55348669677e-30\n",
      "Epoch 15000 loss: 3.55348669677e-30\n",
      "Epoch 22500 loss: 3.55348669677e-30\n",
      "Epoch 30000 loss: 3.55348669677e-30\n",
      "Epoch 0 loss: 3.55348669677e-30\n",
      "Epoch 7500 loss: 3.55348669677e-30\n",
      "Epoch 15000 loss: 3.55348669677e-30\n",
      "Epoch 22500 loss: 3.55348669677e-30\n",
      "Epoch 30000 loss: 3.55348669677e-30\n"
     ]
    }
   ],
   "source": [
    "model_big_relu = BasicModel(\n",
    "    init_weights=[w_h31, w_h32, w_o3], \n",
    "    layer_activations=[relu_func, relu_func, relu_func]\n",
    ")\n",
    "\n",
    "model_hist = []\n",
    "for lr in [0.01, 0.001]:\n",
    "    epoch_hist = model_big_relu.fit_std(\n",
    "        x=input_vec3, \n",
    "        y_true=true_y3, \n",
    "        epochs=30001, \n",
    "        loss_function=mean_squared_error, \n",
    "        optimizer_func=stochastic_gradient_descent,\n",
    "        lr=lr\n",
    "    )\n",
    "    model_hist += epoch_hist"
   ]
  },
  {
   "cell_type": "code",
   "execution_count": 39,
   "metadata": {
    "collapsed": false
   },
   "outputs": [
    {
     "data": {
      "image/png": "[encoded data removed]",
      "text/plain": [
       "<matplotlib.figure.Figure at 0x21213d3bef0>"
      ]
     },
     "metadata": {},
     "output_type": "display_data"
    }
   ],
   "source": [
    "plot_history(model_hist)"
   ]
  },
  {
   "cell_type": "markdown",
   "metadata": {},
   "source": [
    "### Learning Rate too low and it won't converge fast enough"
   ]
  },
  {
   "cell_type": "code",
   "execution_count": 40,
   "metadata": {
    "collapsed": false
   },
   "outputs": [
    {
     "name": "stdout",
     "output_type": "stream",
     "text": [
      "Epoch 0 loss: 1.12479929463\n",
      "Epoch 7500 loss: 1.18937654076e-10\n",
      "Epoch 15000 loss: 4.75537991571e-20\n",
      "Epoch 22500 loss: 4.35122717723e-28\n",
      "Epoch 30000 loss: 3.73333299911e-28\n",
      "Epoch 0 loss: 3.73333299911e-28\n",
      "Epoch 7500 loss: 3.73333299911e-28\n",
      "Epoch 15000 loss: 3.73333299911e-28\n",
      "Epoch 22500 loss: 3.73333299911e-28\n",
      "Epoch 30000 loss: 3.73333299911e-28\n"
     ]
    }
   ],
   "source": [
    "model_big_relu = BasicModel(\n",
    "    init_weights=[w_h31, w_h32, w_o3], \n",
    "    layer_activations=[relu_func, relu_func, relu_func]\n",
    ")\n",
    "\n",
    "model_hist = []\n",
    "for lr in [0.001, 0.0001]:\n",
    "    epoch_hist = model_big_relu.fit_std(\n",
    "        x=input_vec3, \n",
    "        y_true=true_y3, \n",
    "        epochs=30001, \n",
    "        loss_function=mean_squared_error, \n",
    "        optimizer_func=stochastic_gradient_descent,\n",
    "        lr=lr\n",
    "    )\n",
    "    model_hist += epoch_hist"
   ]
  },
  {
   "cell_type": "code",
   "execution_count": 41,
   "metadata": {
    "collapsed": false
   },
   "outputs": [
    {
     "data": {
      "image/png": "[encoded data removed]",
      "text/plain": [
       "<matplotlib.figure.Figure at 0x21211173748>"
      ]
     },
     "metadata": {},
     "output_type": "display_data"
    }
   ],
   "source": [
    "plot_history(model_hist)"
   ]
  },
  {
   "cell_type": "markdown",
   "metadata": {},
   "source": [
    "# Mini-Batch NN"
   ]
  },
  {
   "cell_type": "code",
   "execution_count": 9,
   "metadata": {
    "collapsed": false
   },
   "outputs": [],
   "source": [
    "# Starting weights\n",
    "input_vec4 = np.array([[.05,.1], [.1,.05]])\n",
    "true_y4 = np.array([[.01,.99], [.99,.01]])\n",
    "w_h41 = np.array([\n",
    "    [.40, .30, .50],\n",
    "    [.70, .63, .33],\n",
    "    [.23, .43, .73]\n",
    "])\n",
    "w_h42 = np.array([\n",
    "    [.15, .25, .66, .35],\n",
    "    [.2,  .30, .29, .35]\n",
    "])\n",
    "w_o4 = np.array([\n",
    "    [.40, .45, .60],\n",
    "    [.50, .55, .60]\n",
    "])"
   ]
  },
  {
   "cell_type": "code",
   "execution_count": 13,
   "metadata": {
    "collapsed": false,
    "scrolled": true
   },
   "outputs": [
    {
     "name": "stdout",
     "output_type": "stream",
     "text": [
      "Epoch 0 loss: [ 1.12479929  1.30279685]\n",
      "Epoch 25000 loss: [  2.25615461e-05   1.82584607e-05]\n",
      "Epoch 50000 loss: [  7.56107883e-16   6.48873487e-16]\n",
      "Epoch 75000 loss: [  3.01029552e-26   2.69033649e-26]\n",
      "Epoch 100000 loss: [  6.61154786e-27   6.05812053e-27]\n",
      "Epoch 0 loss: [  6.61154786e-27   6.04471317e-27]\n",
      "Epoch 25000 loss: [  6.61154786e-27   6.04471317e-27]\n",
      "Epoch 50000 loss: [  6.61154786e-27   6.04471317e-27]\n",
      "Epoch 75000 loss: [  6.61154786e-27   6.04471317e-27]\n",
      "Epoch 100000 loss: [  6.61154786e-27   6.04471317e-27]\n",
      "Epoch 0 loss: [  6.61154786e-27   6.04471317e-27]\n",
      "Epoch 25000 loss: [  6.61154786e-27   6.04471317e-27]\n",
      "Epoch 50000 loss: [  6.61154786e-27   6.04471317e-27]\n",
      "Epoch 75000 loss: [  6.61154786e-27   6.04471317e-27]\n",
      "Epoch 100000 loss: [  6.61154786e-27   6.04471317e-27]\n"
     ]
    }
   ],
   "source": [
    "model_big_batch = BasicModel(\n",
    "    init_weights=[w_h41, w_h42, w_o4], \n",
    "    layer_activations=[relu_func, relu_func, relu_func],\n",
    "    add_bias=True,\n",
    "    batch_size=2\n",
    ")\n",
    "\n",
    "model_hist = []\n",
    "for lr in [0.01, 0.001, 0.0001]:\n",
    "    epoch_hist = model_big_batch.fit_std(\n",
    "        x=input_vec4, \n",
    "        y_true=true_y4, \n",
    "        epochs=100001, \n",
    "        loss_function=mean_squared_error, \n",
    "        optimizer_func=stochastic_gradient_descent,\n",
    "        lr=lr\n",
    "    )\n",
    "    model_hist += epoch_hist"
   ]
  },
  {
   "cell_type": "code",
   "execution_count": 14,
   "metadata": {
    "collapsed": false
   },
   "outputs": [
    {
     "data": {
      "image/png": "[encoded data removed]",
      "text/plain": [
       "<matplotlib.figure.Figure at 0x29aba44b8d0>"
      ]
     },
     "metadata": {},
     "output_type": "display_data"
    }
   ],
   "source": [
    "plot_history(model_hist)"
   ]
  },
  {
   "cell_type": "markdown",
   "metadata": {},
   "source": [
    "# Forward pass output averaging (Experiment)"
   ]
  },
  {
   "cell_type": "code",
   "execution_count": 18,
   "metadata": {
    "collapsed": true
   },
   "outputs": [],
   "source": [
    "class IntermidAveragingModel(BasicModel):\n",
    "    def __init(self, init_weights, layer_activations, add_bias=True, batch_size=None):\n",
    "        # Because we are averaging is this case, we can always assume\n",
    "        # Batch_size will alwasy act as 1 after the forward pass\n",
    "        BasicModel.__init__(self, init_weights, layer_activations, add_bias=add_bias, batch_size=1)\n",
    "    \n",
    "    def reduce_batch(self, in_vec):\n",
    "        return (1 / in_vec.shape[0]) * in_vec.sum(axis=0).reshape((1, in_vec.shape[1]))\n",
    "    \n",
    "    def forward_pass(self, in_vec):\n",
    "        if len(in_vec.shape) == 1:\n",
    "            output_cache = in_vec.reshape((1, in_vec.shape[0]))\n",
    "        else:\n",
    "            output_cache = np.copy(in_vec)\n",
    "        self.input_cache = np.copy(output_cache)\n",
    "\n",
    "        for i, (layer_weights, activation) in enumerate(zip(self.network_weights, self.layers_activations)):\n",
    "            if self.add_bias:\n",
    "                bias_terms = [1] * output_cache.shape[0]\n",
    "                output_cache = np.column_stack((output_cache, bias_terms))\n",
    "            self.network_value_cache[i][0] = np.matmul(output_cache, layer_weights.transpose())\n",
    "            self.network_value_cache[i][1] = activation(self.network_value_cache[i][0])\n",
    "            output_cache = self.network_value_cache[i][1]\n",
    "        return self.network_value_cache[len(self.network_value_cache) - 1][1]\n",
    "    \n",
    "    def backward_pass(self, y_true):\n",
    "        return BasicModel(self, self.reduce_batch(y_true))\n",
    "    \n",
    "    def "
   ]
  },
  {
   "cell_type": "code",
   "execution_count": 19,
   "metadata": {
    "collapsed": true
   },
   "outputs": [],
   "source": [
    "# Starting weights\n",
    "input_vec5 = np.array([[.05,.1], [.1,.05]])\n",
    "true_y5 = np.array([[.01,.99], [.99,.01]])\n",
    "w_h51 = np.array([\n",
    "    [.40, .30, .50],\n",
    "    [.70, .63, .33],\n",
    "    [.23, .43, .73]\n",
    "])\n",
    "w_h52 = np.array([\n",
    "    [.15, .25, .66, .35],\n",
    "    [.2,  .30, .29, .35]\n",
    "])\n",
    "w_o5 = np.array([\n",
    "    [.40, .45, .60],\n",
    "    [.50, .55, .60]\n",
    "])"
   ]
  },
  {
   "cell_type": "code",
   "execution_count": null,
   "metadata": {
    "collapsed": true
   },
   "outputs": [],
   "source": [
    "intermid_model_big = IntermidAveragingModel(\n",
    "    init_weights=[w_h51, w_h52, w_o5], \n",
    "    layer_activations=[relu_func, relu_func, relu_func],\n",
    "    add_bias=True,\n",
    "    batch_size=2\n",
    ")\n",
    "\n",
    "model_hist = []\n",
    "for lr in [0.01, 0.001, 0.0001]:\n",
    "    epoch_hist = model_big_batch.fit_std(\n",
    "        x=input_vec5, \n",
    "        y_true=true_y5, \n",
    "        epochs=100001, \n",
    "        loss_function=mean_squared_error, \n",
    "        optimizer_func=stochastic_gradient_descent,\n",
    "        lr=lr\n",
    "    )\n",
    "    model_hist += epoch_hist"
   ]
  },
  {
   "cell_type": "code",
   "execution_count": 11,
   "metadata": {
    "collapsed": false
   },
   "outputs": [
    {
     "data": {
      "text/plain": [
       "array([[5, 7, 9]])"
      ]
     },
     "execution_count": 11,
     "metadata": {},
     "output_type": "execute_result"
    }
   ],
   "source": [
    "np.array([[1,2,3],[4,5,6]]).sum(axis=0).reshape((1,3))"
   ]
  },
  {
   "cell_type": "markdown",
   "metadata": {},
   "source": [
    "# Layered Model\n",
    "This will use a similar sequential modeling idea as found in Keras"
   ]
  },
  {
   "cell_type": "code",
   "execution_count": 6,
   "metadata": {
    "collapsed": true
   },
   "outputs": [],
   "source": [
    "class SGD:\n",
    "    def __init__(self, lr=0.01):\n",
    "        self.learning_rate = lr\n",
    "    \n",
    "    def update_weights(self, orig_weights, delta_w):\n",
    "        return orig_weights - (self.learning_rate * delta_w)"
   ]
  },
  {
   "cell_type": "code",
   "execution_count": 145,
   "metadata": {
    "collapsed": false
   },
   "outputs": [],
   "source": [
    "class DenseLayer:\n",
    "    def __init__(self, input_feature_size, output_feature_size, activation_func, set_weight=None):\n",
    "        self.activation_func = activation_func\n",
    "        self.input_feature_size, self.output_feature_size = input_feature_size, output_feature_size\n",
    "        self.weight_matrix_shape = (output_feature_size, input_feature_size + 1) # +1 for bias weights\n",
    "        self.weights = set_weight\n",
    "    \n",
    "    # Weight_inits are of form (input_dim x output_dim)\n",
    "    def model_set(self, batch_size, weight_inits):\n",
    "        self.batch_size = batch_size\n",
    "        self.input_cache = np.zeros((batch_size, self.input_feature_size), dtype=np.float64)\n",
    "        self.net_cache = np.zeros((batch_size, self.output_feature_size), dtype=np.float64)\n",
    "        self.dv_out_net = np.zeros((batch_size, self.output_feature_size), dtype=np.float64)\n",
    "        self.sigmas = np.zeros((batch_size, self.output_feature_size), dtype=np.float64)\n",
    "        if self.weights is None:\n",
    "            self.weights = np.copy(weight_inits)\n",
    "        self.delta_w = np.zeros(self.weight_matrix_shape, dtype=np.float64)\n",
    "    \n",
    "    def forward(self, layer_input):\n",
    "        np.copyto(self.input_cache, layer_input)\n",
    "        self.biased_layer_input = np.column_stack((layer_input, [1] * layer_input.shape[0]))\n",
    "        np.matmul(self.biased_layer_input, self.weights.transpose(), self.net_cache)\n",
    "        return self.activation_func(self.net_cache, derivative_of=False)\n",
    "    \n",
    "    def backward(self, dv_E_out):\n",
    "        self.activation_func(self.net_cache, derivative_of=True, out=self.dv_out_net)\n",
    "        np.multiply(dv_E_out, self.dv_out_net, out=self.sigmas)\n",
    "        np.matmul(self.sigmas.transpose(), self.biased_layer_input, out=self.delta_w)\n",
    "        return np.matmul(self.sigmas, self.weights[:, :-1]) # Removing bias terms for dv_E_in of next layer\n",
    "    \n",
    "    def update(self, optimizer):\n",
    "        self.weights = optimizer.update_weights(self.weights, (1. / self.batch_size) * self.delta_w)"
   ]
  },
  {
   "cell_type": "code",
   "execution_count": 135,
   "metadata": {
    "collapsed": true
   },
   "outputs": [],
   "source": [
    "class LayerModel:\n",
    "    def __init__(self, batch_size=1):\n",
    "        self.layers = []\n",
    "        self.forward_input_cache = None\n",
    "        self.batch_size = batch_size\n",
    "    \n",
    "    def add(self, in_layer):\n",
    "        self.layers.append(in_layer)\n",
    "    \n",
    "    def compile_net(self):\n",
    "        for layer in self.layers:\n",
    "            w, h = layer.weight_matrix_shape\n",
    "            init_weights = (np.random.rand(w, h) ) \\\n",
    "                                / math.sqrt(layer.input_feature_size)\n",
    "            layer.model_set(self.batch_size, init_weights)\n",
    "    \n",
    "    def forward(self, in_vec):\n",
    "        self.forward_input_cache = np.copy(in_vec)\n",
    "        output_cache = self.forward_input_cache\n",
    "        for layer in self.layers:\n",
    "            output_cache = layer.forward(output_cache)\n",
    "        self.output_cache = np.copy(output_cache)\n",
    "        return output_cache\n",
    "    \n",
    "    def backward(self, y_true, loss_func):\n",
    "        dv_E_out = loss_func(y_true, self.output_cache, derivative_of=True)\n",
    "        for layer in reversed(self.layers):\n",
    "            dv_E_out = layer.backward(dv_E_out)\n",
    "        return dv_E_out\n",
    "    \n",
    "    def update(self, optimizer):\n",
    "        for layer in self.layers:\n",
    "            layer.update(optimizer)\n",
    "    \n",
    "    def fit_std(self, x, y_true, epochs=100, loss_function=None, optimizer=None):\n",
    "        loss_history = []\n",
    "        for i in range(epochs):\n",
    "            y_pred = self.forward(x)\n",
    "            loss_history.append(loss_function(y_true, y_pred))\n",
    "            d_w = self.backward(y_true, loss_function)\n",
    "            self.update(optimizer)\n",
    "            if (i % int(epochs / 4)) == 0:\n",
    "                print('Epoch ' + str(i) + ' loss: ' + str(loss_history[len(loss_history) - 1]))\n",
    "        return loss_history"
   ]
  },
  {
   "cell_type": "code",
   "execution_count": 148,
   "metadata": {
    "collapsed": true
   },
   "outputs": [],
   "source": [
    "# Starting weights\n",
    "input_vec = np.array([\n",
    "    [.05,.1],\n",
    "    [.10,.05]\n",
    "])\n",
    "true_y = np.array([\n",
    "    [.01,.99],\n",
    "    [.99,.01]\n",
    "])\n",
    "w_h = np.array([\n",
    "    [.15, .25, .35],\n",
    "    [.2,  .30,  .35]\n",
    "])\n",
    "w_o = np.array([\n",
    "    [.40, .45, .60],\n",
    "    [.50, .55, .60]\n",
    "])"
   ]
  },
  {
   "cell_type": "code",
   "execution_count": 150,
   "metadata": {
    "collapsed": false,
    "scrolled": true
   },
   "outputs": [
    {
     "name": "stdout",
     "output_type": "stream",
     "text": [
      "Epoch 0 loss: [ 0.17377347  0.41631392]\n",
      "Epoch 25000 loss: [  1.17312615e-11   1.21037313e-11]\n",
      "Epoch 50000 loss: [  1.21511620e-26   1.26332887e-26]\n",
      "Epoch 75000 loss: [  1.11990856e-27   1.22418264e-27]\n"
     ]
    }
   ],
   "source": [
    "model = LayerModel(batch_size=input_vec.shape[0])\n",
    "model.add(DenseLayer(2, 3, relu_func))\n",
    "model.add(DenseLayer(3, 2, relu_func))\n",
    "model.add(DenseLayer(2, 2, relu_func))\n",
    "model.compile_net()\n",
    "model_hist = model.fit_std(input_vec, true_y, epochs=100000, loss_function=mean_squared_error, optimizer=SGD(lr=0.01))"
   ]
  },
  {
   "cell_type": "code",
   "execution_count": 151,
   "metadata": {
    "collapsed": false
   },
   "outputs": [
    {
     "data": {
      "image/png": "[encoded data removed]",
      "text/plain": [
       "<matplotlib.figure.Figure at 0x202a9ccd198>"
      ]
     },
     "metadata": {},
     "output_type": "display_data"
    }
   ],
   "source": [
    "plot_history(model_hist)"
   ]
  },
  {
   "cell_type": "markdown",
   "metadata": {},
   "source": [
    "# Convolutional Layer"
   ]
  },
  {
   "cell_type": "code",
   "execution_count": null,
   "metadata": {
    "collapsed": true
   },
   "outputs": [],
   "source": [
    "class Conv2DLayer:\n",
    "    # input_feature_size should be tuple of (WxHxE)\n",
    "    # kernel_shape should be tuple of (MxNxD)\n",
    "    # set_weight should be numpy array of shape (MxNxD)\n",
    "    def __init__(self, input_feature_size, kernel_shape, activation_func, set_weight=None):\n",
    "        self.activation_func = activation_func\n",
    "        self.input_feature_size, self.output_feature_size = input_feature_size, output_feature_size\n",
    "        self.weight_matrix_shape = kernel_shape # TODO: does Conv need bias terms?\n",
    "        self.weights = set_weight\n",
    "    \n",
    "    # Weight_inits are of form (input_dim x output_dim)\n",
    "    def model_set(self, batch_size, weight_inits):\n",
    "        self.batch_size = batch_size\n",
    "        self.input_cache = np.zeros((batch_size, self.input_feature_size), dtype=np.float64)\n",
    "        self.net_cache = np.zeros((batch_size, self.output_feature_size), dtype=np.float64)\n",
    "        self.dv_out_net = np.zeros((batch_size, self.output_feature_size), dtype=np.float64)\n",
    "        self.sigmas = np.zeros((batch_size, self.output_feature_size), dtype=np.float64)\n",
    "        if self.weights is None:\n",
    "            self.weights = np.copy(weight_inits)\n",
    "        self.delta_w = np.zeros(self.weight_matrix_shape, dtype=np.float64)\n",
    "    \n",
    "    def forward(self, layer_input):\n",
    "        np.copyto(self.input_cache, layer_input)\n",
    "        self.biased_layer_input = np.column_stack((layer_input, [1] * layer_input.shape[0]))\n",
    "        np.matmul(self.biased_layer_input, self.weights.transpose(), self.net_cache)\n",
    "        return self.activation_func(self.net_cache, derivative_of=False)\n",
    "    \n",
    "    def backward(self, dv_E_out):\n",
    "        self.activation_func(self.net_cache, derivative_of=True, out=self.dv_out_net)\n",
    "        np.multiply(dv_E_out, self.dv_out_net, out=self.sigmas)\n",
    "        np.matmul(self.sigmas.transpose(), self.biased_layer_input, out=self.delta_w)\n",
    "        return np.matmul(self.sigmas, self.weights[:, :-1]) # Removing bias terms for dv_E_in of next layer\n",
    "    \n",
    "    def update(self, optimizer):\n",
    "        self.weights = optimizer.update_weights(self.weights, (1. / self.batch_size) * self.delta_w)"
   ]
  },
  {
   "cell_type": "markdown",
   "metadata": {},
   "source": [
    "# Dropout"
   ]
  },
  {
   "cell_type": "code",
   "execution_count": null,
   "metadata": {
    "collapsed": true
   },
   "outputs": [],
   "source": []
  },
  {
   "cell_type": "markdown",
   "metadata": {},
   "source": [
    "# Batch Normalization"
   ]
  },
  {
   "cell_type": "code",
   "execution_count": null,
   "metadata": {
    "collapsed": true
   },
   "outputs": [],
   "source": []
  }
 ],
 "metadata": {
  "kernelspec": {
   "display_name": "Python 3",
   "language": "python",
   "name": "python3"
  },
  "language_info": {
   "codemirror_mode": {
    "name": "ipython",
    "version": 3
   },
   "file_extension": ".py",
   "mimetype": "text/x-python",
   "name": "python",
   "nbconvert_exporter": "python",
   "pygments_lexer": "ipython3",
   "version": "3.6.0"
  }
 },
 "nbformat": 4,
 "nbformat_minor": 2
}
