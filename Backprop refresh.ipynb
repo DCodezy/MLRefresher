{
 "cells": [
  {
   "cell_type": "markdown",
   "metadata": {},
   "source": [
    "# Refresher on Backpropagating through Neural Networks\n",
    "This will be based on the network decsribed in https://mattmazur.com/2015/03/17/a-step-by-step-backpropagation-example/"
   ]
  },
  {
   "cell_type": "code",
   "execution_count": 38,
   "metadata": {
    "collapsed": true
   },
   "outputs": [],
   "source": [
    "import numpy as np\n",
    "import matplotlib.pyplot as plt\n",
    "from pylab import *\n",
    "\n",
    "%matplotlib inline"
   ]
  },
  {
   "cell_type": "code",
   "execution_count": 39,
   "metadata": {
    "collapsed": true
   },
   "outputs": [],
   "source": [
    "def sigmoid_func(in_vec, derivative_of=False):\n",
    "    if not derivative_of:\n",
    "        return 1 / (1 + np.exp(-in_vec))\n",
    "    base_value = sigmoid_func(in_vec, derivative_of=False)\n",
    "    return np.multiply(base_value, (1 - base_value))"
   ]
  },
  {
   "cell_type": "code",
   "execution_count": 40,
   "metadata": {
    "collapsed": true
   },
   "outputs": [],
   "source": [
    "def relu_func(in_vec, derivative_of=False):\n",
    "    if not derivative_of:\n",
    "        return np.maximum(in_vec, 0)\n",
    "    copy_vec = np.copy(in_vec)\n",
    "    copy_vec[copy_vec >= 0] = 1\n",
    "    copy_vec[copy_vec < 0] = 0 \n",
    "    return copy_vec"
   ]
  },
  {
   "cell_type": "code",
   "execution_count": 41,
   "metadata": {
    "collapsed": true
   },
   "outputs": [],
   "source": [
    "def mean_squared_error(true_y, pred_y, derivative_of=False):\n",
    "    if not derivative_of:\n",
    "        return (1 / 2) * np.sum((true_y - pred_y) ** 2)\n",
    "    return np.sum(pred_y - true_y)"
   ]
  },
  {
   "cell_type": "code",
   "execution_count": 42,
   "metadata": {
    "collapsed": true
   },
   "outputs": [],
   "source": [
    "def stochastic_gradient_descent(orig_layer_w, layer_delta_w, learning_rate=0.1):\n",
    "    return orig_layer_w - (learning_rate * layer_delta_w)"
   ]
  },
  {
   "cell_type": "code",
   "execution_count": 143,
   "metadata": {
    "collapsed": false
   },
   "outputs": [],
   "source": [
    "class BasicModel:\n",
    "    def __init__(self, init_weights, layer_activations, add_bias=True, batch_size=None):\n",
    "        self.add_bias = add_bias\n",
    "        self.network_weights = np.copy(init_weights)\n",
    "        self.layers_activations = np.copy(layer_activations)\n",
    "        if batch_size is None:\n",
    "            batch_size = 1\n",
    "        self.batch_size = batch_size\n",
    "        value_cache_layout = []\n",
    "        for layer_weight_base in self.network_weights:\n",
    "            output_shape = (batch_size, layer_weight_base.shape[0])\n",
    "            zeros = [[0.] * layer_weight_base.shape[0]] * batch_size\n",
    "            value_cache_layout.append([zeros, zeros])\n",
    "        self.network_value_cache = np.array(value_cache_layout)\n",
    "    \n",
    "    def forward_pass(self, in_vec):\n",
    "        if len(in_vec.shape) == 1:\n",
    "            output_cache = in_vec.reshape((1, in_vec.shape[0]))\n",
    "        else:\n",
    "            output_cache = np.copy(in_vec)\n",
    "        self.input_cache = np.copy(output_cache)\n",
    "\n",
    "        for i, (layer_weights, activation) in enumerate(zip(self.network_weights, self.layers_activations)):\n",
    "            if self.add_bias:\n",
    "                bias_terms = [1] * output_cache.shape[0]\n",
    "                output_cache = np.column_stack((output_cache, bias_terms))\n",
    "            print(self.network_value_cache[i][0])\n",
    "            print(np.matmul(output_cache, layer_weights.transpose()))\n",
    "            self.network_value_cache[i][0] = np.matmul(output_cache, layer_weights.transpose())\n",
    "            self.network_value_cache[i][1] = activation(self.network_value_cache[i][0])\n",
    "            output_cache = self.network_value_cache[i][1]\n",
    "        return self.network_value_cache[self.network_value_cache.shape[0] - 1][1]\n",
    "    \n",
    "    def backward_pass(self, y_true):\n",
    "        sigma_cache = []\n",
    "        # Backprop last layer and calculate sigma oi's\n",
    "        net_out, layer_out = self.network_value_cache[self.network_value_cache.shape[0] - 1]\n",
    "        div_E_out = layer_out - y_true\n",
    "        div_out_net = self.layers_activations[len(self.layers_activations) - 1](net_out, derivative_of=True)\n",
    "        div_E_net = np.multiply(div_E_out, div_out_net)   # This is the sigma for this layer\n",
    "        sigma_cache.append(div_E_net)\n",
    "        \n",
    "        # Backprop through rest of layers\n",
    "        num_hidden_layers = self.network_value_cache.shape[0] - 1 # Subtract 1 because we take care of last layer already\n",
    "        for i in reversed(range(0, num_hidden_layers)):\n",
    "            net_out, layer_out = self.network_value_cache[i]\n",
    "            div_E_out = np.matmul(\n",
    "                sigma_cache[num_hidden_layers - i - 2],\n",
    "                self.network_weights[i + 1][:, :-1], \n",
    "            )\n",
    "            div_out_net = self.layers_activations[i](net_out, derivative_of=True)\n",
    "            div_E_net = np.multiply(div_E_out, div_out_net)\n",
    "            sigma_cache.append(div_E_net)\n",
    "        sigma_cache = np.array(sigma_cache)[::-1]\n",
    "        \n",
    "        # Forward through sigmas and w's to get dW's\n",
    "        delta_w = []\n",
    "        # Do first layer separately because using input X rather than previous layer output\n",
    "        if self.add_bias:\n",
    "            bias_terms = [1] * self.input_cache.shape[0]\n",
    "            layer_input = np.column_stack((self.input_cache, bias_terms))\n",
    "        else:\n",
    "            layer_input = self.input_cache.transpose()\n",
    "        div_E_w = np.matmul(sigma_cache[0].transpose(), layer_input)\n",
    "        delta_w.append((1 / self.batch_size) * div_E_w)\n",
    "        # Do the rest of the layers\n",
    "        for i, layer_sigma in enumerate(sigma_cache[1:]):\n",
    "            prev_net_out, prev_layer_out = self.network_value_cache[i]\n",
    "            if self.add_bias:\n",
    "                bias_terms = [1] * prev_layer_out.shape[0]\n",
    "                layer_input = np.column_stack((prev_layer_out, bias_terms))\n",
    "            else:\n",
    "                layer_input = prev_layer_out\n",
    "            div_E_w = np.matmul(layer_sigma.transpose(), layer_input)\n",
    "            delta_w.append((1 / self.batch_size) * div_E_w)\n",
    "        # Average over minibatch and return dW's\n",
    "        return delta_w\n",
    "    \n",
    "    def update(self, delta_w, optimizer_func, lr):\n",
    "        for i, layer_delta_w in enumerate(delta_w):\n",
    "            self.network_weights[i] = optimizer_func(self.network_weights[i], layer_delta_w, lr)\n",
    "    \n",
    "    def fit_std(self, x, y_true, epochs=100, loss_function=None, optimizer_func=None, lr=0.1):\n",
    "        loss_history = []\n",
    "        for i in range(epochs):\n",
    "            y_pred = self.forward_pass(x)\n",
    "            loss_history.append(loss_function(y_true, y_pred))\n",
    "            if (i % int(epochs/4)) == 0:\n",
    "                print('Epoch ' + str(i) + ' loss: ' + str(loss_history[len(loss_history) - 1]))\n",
    "            d_w = self.backward_pass(y_true)\n",
    "            self.update(d_w, optimizer_func, lr=lr)\n",
    "        return loss_history"
   ]
  },
  {
   "cell_type": "code",
   "execution_count": 124,
   "metadata": {
    "collapsed": true
   },
   "outputs": [],
   "source": [
    "def plot_history(model_history):\n",
    "    ax1, ax2 = plt.subplot(211), plt.subplot(212)\n",
    "    ax1.plot(model_hist)\n",
    "    ax1.set_xscale('log')\n",
    "    ax1.set_ylabel('loss')\n",
    "    ax2.plot(model_hist)\n",
    "    ax2.set_yscale('log')\n",
    "    ax2.set_ylabel('loss')\n",
    "    ax2.set_xlabel('epoch')\n",
    "    plt.show()"
   ]
  },
  {
   "cell_type": "markdown",
   "metadata": {},
   "source": [
    "## Small (2 layer) NN"
   ]
  },
  {
   "cell_type": "code",
   "execution_count": 125,
   "metadata": {
    "collapsed": true
   },
   "outputs": [],
   "source": [
    "# Starting weights\n",
    "input_vec = np.array([.05,.1])\n",
    "true_y = np.array([.01,.99])\n",
    "w_h = np.array([\n",
    "    [.15, .25, .35],\n",
    "    [.2,  .30,  .35]\n",
    "])\n",
    "w_o = np.array([\n",
    "    [.40, .45, .60],\n",
    "    [.50, .55, .60]\n",
    "])"
   ]
  },
  {
   "cell_type": "code",
   "execution_count": 144,
   "metadata": {
    "collapsed": false
   },
   "outputs": [],
   "source": [
    "model = BasicModel(init_weights=[w_h, w_o], layer_activations=[sigmoid_func, sigmoid_func])"
   ]
  },
  {
   "cell_type": "code",
   "execution_count": 127,
   "metadata": {
    "collapsed": false,
    "scrolled": true
   },
   "outputs": [
    {
     "name": "stdout",
     "output_type": "stream",
     "text": [
      "Epoch 0 loss: 0.298390054478\n",
      "Epoch 7500 loss: 5.67232090434e-06\n",
      "Epoch 15000 loss: 5.64907152139e-07\n",
      "Epoch 22500 loss: 7.88482581799e-08\n",
      "Epoch 30000 loss: 1.22081756465e-08\n",
      "Epoch 0 loss: 1.2205180364e-08\n",
      "Epoch 7500 loss: 4.88190421574e-09\n",
      "Epoch 15000 loss: 1.96384729632e-09\n",
      "Epoch 22500 loss: 7.92871574211e-10\n",
      "Epoch 30000 loss: 3.20861358452e-10\n",
      "Epoch 0 loss: 3.20822695923e-10\n",
      "Epoch 7500 loss: 2.23519974305e-10\n",
      "Epoch 15000 loss: 1.55760755965e-10\n",
      "Epoch 22500 loss: 1.08561867927e-10\n",
      "Epoch 30000 loss: 7.56769252929e-11\n",
      "Epoch 0 loss: 7.56732850491e-11\n",
      "Epoch 7500 loss: 7.29919058473e-11\n",
      "Epoch 15000 loss: 7.04056304285e-11\n",
      "Epoch 22500 loss: 6.79110811484e-11\n",
      "Epoch 30000 loss: 6.55050005418e-11\n",
      "Epoch 0 loss: 6.5504685489e-11\n",
      "Epoch 7500 loss: 6.52688226634e-11\n",
      "Epoch 15000 loss: 6.50338099339e-11\n",
      "Epoch 22500 loss: 6.47996442287e-11\n",
      "Epoch 30000 loss: 6.45663224909e-11\n"
     ]
    }
   ],
   "source": [
    "model_hist = []\n",
    "for lr in [0.5, 0.25, 0.1, 0.01, 0.001]:\n",
    "    epoch_hist = model.fit_std(\n",
    "        x=input_vec, \n",
    "        y_true=true_y, \n",
    "        epochs=30001, \n",
    "        loss_function=mean_squared_error, \n",
    "        optimizer_func=stochastic_gradient_descent,\n",
    "        lr=lr\n",
    "    )\n",
    "    model_hist += epoch_hist"
   ]
  },
  {
   "cell_type": "code",
   "execution_count": 128,
   "metadata": {
    "collapsed": false
   },
   "outputs": [
    {
     "data": {
      "image/png": "[encoded data removed]",
      "text/plain": [
       "<matplotlib.figure.Figure at 0x242d2a9bd30>"
      ]
     },
     "metadata": {},
     "output_type": "display_data"
    }
   ],
   "source": [
    "plot_history(model_hist)"
   ]
  },
  {
   "cell_type": "code",
   "execution_count": 129,
   "metadata": {
    "collapsed": false
   },
   "outputs": [
    {
     "name": "stdout",
     "output_type": "stream",
     "text": [
      "True y: [ 0.01  0.99]\n",
      "Predicted y: [[ 0.01000853  0.98999249]]\n"
     ]
    }
   ],
   "source": [
    "y_pred = model.forward_pass(input_vec)\n",
    "print('True y: ' + str(true_y))\n",
    "print('Predicted y: ' + str(y_pred))"
   ]
  },
  {
   "cell_type": "markdown",
   "metadata": {},
   "source": [
    "## Larger (3 layer) 2->3->2->2 NN"
   ]
  },
  {
   "cell_type": "code",
   "execution_count": 145,
   "metadata": {
    "collapsed": true
   },
   "outputs": [],
   "source": [
    "# Starting weights\n",
    "input_vec2 = np.array([.05,.1])\n",
    "true_y2 = np.array([.01,.99])\n",
    "w_h21 = np.array([\n",
    "    [.40, .30, .50],\n",
    "    [.70, .63, .33],\n",
    "    [.23, .43, .73]\n",
    "])\n",
    "w_h22 = np.array([\n",
    "    [.15, .25, .66, .35],\n",
    "    [.2,  .30, .29, .35]\n",
    "])\n",
    "w_o2 = np.array([\n",
    "    [.40, .45, .60],\n",
    "    [.50, .55, .60]\n",
    "])"
   ]
  },
  {
   "cell_type": "code",
   "execution_count": 146,
   "metadata": {
    "collapsed": false
   },
   "outputs": [],
   "source": [
    "model_big = BasicModel(\n",
    "    init_weights=[w_h21, w_h22, w_o2], \n",
    "    layer_activations=[sigmoid_func, sigmoid_func, sigmoid_func]\n",
    ")"
   ]
  },
  {
   "cell_type": "code",
   "execution_count": 147,
   "metadata": {
    "collapsed": false,
    "scrolled": true
   },
   "outputs": [
    {
     "name": "stdout",
     "output_type": "stream",
     "text": [
      "[[0.0, 0.0, 0.0]]\n",
      "[[ 0.55    0.428   0.7845]]\n"
     ]
    },
    {
     "ename": "ValueError",
     "evalue": "could not broadcast input array from shape (3) into shape (1)",
     "output_type": "error",
     "traceback": [
      "\u001b[0;31m---------------------------------------------------------------------------\u001b[0m",
      "\u001b[0;31mValueError\u001b[0m                                Traceback (most recent call last)",
      "\u001b[0;32m<ipython-input-147-89991485837a>\u001b[0m in \u001b[0;36m<module>\u001b[0;34m()\u001b[0m\n\u001b[1;32m      7\u001b[0m         \u001b[0mloss_function\u001b[0m\u001b[1;33m=\u001b[0m\u001b[0mmean_squared_error\u001b[0m\u001b[1;33m,\u001b[0m\u001b[1;33m\u001b[0m\u001b[0m\n\u001b[1;32m      8\u001b[0m         \u001b[0moptimizer_func\u001b[0m\u001b[1;33m=\u001b[0m\u001b[0mstochastic_gradient_descent\u001b[0m\u001b[1;33m,\u001b[0m\u001b[1;33m\u001b[0m\u001b[0m\n\u001b[0;32m----> 9\u001b[0;31m         \u001b[0mlr\u001b[0m\u001b[1;33m=\u001b[0m\u001b[0mlr\u001b[0m\u001b[1;33m\u001b[0m\u001b[0m\n\u001b[0m\u001b[1;32m     10\u001b[0m     )\n\u001b[1;32m     11\u001b[0m     \u001b[0mmodel_hist\u001b[0m \u001b[1;33m+=\u001b[0m \u001b[0mepoch_hist\u001b[0m\u001b[1;33m\u001b[0m\u001b[0m\n",
      "\u001b[0;32m<ipython-input-143-3302d9d8c18f>\u001b[0m in \u001b[0;36mfit_std\u001b[0;34m(self, x, y_true, epochs, loss_function, optimizer_func, lr)\u001b[0m\n\u001b[1;32m     84\u001b[0m         \u001b[0mloss_history\u001b[0m \u001b[1;33m=\u001b[0m \u001b[1;33m[\u001b[0m\u001b[1;33m]\u001b[0m\u001b[1;33m\u001b[0m\u001b[0m\n\u001b[1;32m     85\u001b[0m         \u001b[1;32mfor\u001b[0m \u001b[0mi\u001b[0m \u001b[1;32min\u001b[0m \u001b[0mrange\u001b[0m\u001b[1;33m(\u001b[0m\u001b[0mepochs\u001b[0m\u001b[1;33m)\u001b[0m\u001b[1;33m:\u001b[0m\u001b[1;33m\u001b[0m\u001b[0m\n\u001b[0;32m---> 86\u001b[0;31m             \u001b[0my_pred\u001b[0m \u001b[1;33m=\u001b[0m \u001b[0mself\u001b[0m\u001b[1;33m.\u001b[0m\u001b[0mforward_pass\u001b[0m\u001b[1;33m(\u001b[0m\u001b[0mx\u001b[0m\u001b[1;33m)\u001b[0m\u001b[1;33m\u001b[0m\u001b[0m\n\u001b[0m\u001b[1;32m     87\u001b[0m             \u001b[0mloss_history\u001b[0m\u001b[1;33m.\u001b[0m\u001b[0mappend\u001b[0m\u001b[1;33m(\u001b[0m\u001b[0mloss_function\u001b[0m\u001b[1;33m(\u001b[0m\u001b[0my_true\u001b[0m\u001b[1;33m,\u001b[0m \u001b[0my_pred\u001b[0m\u001b[1;33m)\u001b[0m\u001b[1;33m)\u001b[0m\u001b[1;33m\u001b[0m\u001b[0m\n\u001b[1;32m     88\u001b[0m             \u001b[1;32mif\u001b[0m \u001b[1;33m(\u001b[0m\u001b[0mi\u001b[0m \u001b[1;33m%\u001b[0m \u001b[0mint\u001b[0m\u001b[1;33m(\u001b[0m\u001b[0mepochs\u001b[0m\u001b[1;33m/\u001b[0m\u001b[1;36m4\u001b[0m\u001b[1;33m)\u001b[0m\u001b[1;33m)\u001b[0m \u001b[1;33m==\u001b[0m \u001b[1;36m0\u001b[0m\u001b[1;33m:\u001b[0m\u001b[1;33m\u001b[0m\u001b[0m\n",
      "\u001b[0;32m<ipython-input-143-3302d9d8c18f>\u001b[0m in \u001b[0;36mforward_pass\u001b[0;34m(self, in_vec)\u001b[0m\n\u001b[1;32m     27\u001b[0m             \u001b[0mprint\u001b[0m\u001b[1;33m(\u001b[0m\u001b[0mself\u001b[0m\u001b[1;33m.\u001b[0m\u001b[0mnetwork_value_cache\u001b[0m\u001b[1;33m[\u001b[0m\u001b[0mi\u001b[0m\u001b[1;33m]\u001b[0m\u001b[1;33m[\u001b[0m\u001b[1;36m0\u001b[0m\u001b[1;33m]\u001b[0m\u001b[1;33m)\u001b[0m\u001b[1;33m\u001b[0m\u001b[0m\n\u001b[1;32m     28\u001b[0m             \u001b[0mprint\u001b[0m\u001b[1;33m(\u001b[0m\u001b[0mnp\u001b[0m\u001b[1;33m.\u001b[0m\u001b[0mmatmul\u001b[0m\u001b[1;33m(\u001b[0m\u001b[0moutput_cache\u001b[0m\u001b[1;33m,\u001b[0m \u001b[0mlayer_weights\u001b[0m\u001b[1;33m.\u001b[0m\u001b[0mtranspose\u001b[0m\u001b[1;33m(\u001b[0m\u001b[1;33m)\u001b[0m\u001b[1;33m)\u001b[0m\u001b[1;33m)\u001b[0m\u001b[1;33m\u001b[0m\u001b[0m\n\u001b[0;32m---> 29\u001b[0;31m             \u001b[0mself\u001b[0m\u001b[1;33m.\u001b[0m\u001b[0mnetwork_value_cache\u001b[0m\u001b[1;33m[\u001b[0m\u001b[0mi\u001b[0m\u001b[1;33m]\u001b[0m\u001b[1;33m[\u001b[0m\u001b[1;36m0\u001b[0m\u001b[1;33m]\u001b[0m \u001b[1;33m=\u001b[0m \u001b[0mnp\u001b[0m\u001b[1;33m.\u001b[0m\u001b[0mmatmul\u001b[0m\u001b[1;33m(\u001b[0m\u001b[0moutput_cache\u001b[0m\u001b[1;33m,\u001b[0m \u001b[0mlayer_weights\u001b[0m\u001b[1;33m.\u001b[0m\u001b[0mtranspose\u001b[0m\u001b[1;33m(\u001b[0m\u001b[1;33m)\u001b[0m\u001b[1;33m)\u001b[0m\u001b[1;33m\u001b[0m\u001b[0m\n\u001b[0m\u001b[1;32m     30\u001b[0m             \u001b[0mself\u001b[0m\u001b[1;33m.\u001b[0m\u001b[0mnetwork_value_cache\u001b[0m\u001b[1;33m[\u001b[0m\u001b[0mi\u001b[0m\u001b[1;33m]\u001b[0m\u001b[1;33m[\u001b[0m\u001b[1;36m1\u001b[0m\u001b[1;33m]\u001b[0m \u001b[1;33m=\u001b[0m \u001b[0mactivation\u001b[0m\u001b[1;33m(\u001b[0m\u001b[0mself\u001b[0m\u001b[1;33m.\u001b[0m\u001b[0mnetwork_value_cache\u001b[0m\u001b[1;33m[\u001b[0m\u001b[0mi\u001b[0m\u001b[1;33m]\u001b[0m\u001b[1;33m[\u001b[0m\u001b[1;36m0\u001b[0m\u001b[1;33m]\u001b[0m\u001b[1;33m)\u001b[0m\u001b[1;33m\u001b[0m\u001b[0m\n\u001b[1;32m     31\u001b[0m             \u001b[0moutput_cache\u001b[0m \u001b[1;33m=\u001b[0m \u001b[0mself\u001b[0m\u001b[1;33m.\u001b[0m\u001b[0mnetwork_value_cache\u001b[0m\u001b[1;33m[\u001b[0m\u001b[0mi\u001b[0m\u001b[1;33m]\u001b[0m\u001b[1;33m[\u001b[0m\u001b[1;36m1\u001b[0m\u001b[1;33m]\u001b[0m\u001b[1;33m\u001b[0m\u001b[0m\n",
      "\u001b[0;31mValueError\u001b[0m: could not broadcast input array from shape (3) into shape (1)"
     ]
    }
   ],
   "source": [
    "model_hist = []\n",
    "for lr in [0.5, 0.25, 0.1, 0.01, 0.001]:\n",
    "    epoch_hist = model_big.fit_std(\n",
    "        x=input_vec, \n",
    "        y_true=true_y, \n",
    "        epochs=100001, \n",
    "        loss_function=mean_squared_error, \n",
    "        optimizer_func=stochastic_gradient_descent,\n",
    "        lr=lr\n",
    "    )\n",
    "    model_hist += epoch_hist"
   ]
  },
  {
   "cell_type": "code",
   "execution_count": 139,
   "metadata": {
    "collapsed": false
   },
   "outputs": [
    {
     "data": {
      "text/plain": [
       "array([[0.0, 0.0]], dtype=object)"
      ]
     },
     "execution_count": 139,
     "metadata": {},
     "output_type": "execute_result"
    }
   ],
   "source": [
    "model_big.network_value_cache[1][0]"
   ]
  },
  {
   "cell_type": "code",
   "execution_count": 16,
   "metadata": {
    "collapsed": false
   },
   "outputs": [
    {
     "data": {
      "image/png": "[encoded data removed]",
      "text/plain": [
       "<matplotlib.figure.Figure at 0x1e36809fc50>"
      ]
     },
     "metadata": {},
     "output_type": "display_data"
    }
   ],
   "source": [
    "plot_history(model_hist)"
   ]
  },
  {
   "cell_type": "code",
   "execution_count": 17,
   "metadata": {
    "collapsed": false
   },
   "outputs": [
    {
     "name": "stdout",
     "output_type": "stream",
     "text": [
      "True y: [ 0.01  0.99]\n",
      "Predicted y: [ 0.01  0.99]\n"
     ]
    }
   ],
   "source": [
    "y_pred = model_big.forward_pass(input_vec2)\n",
    "print('True y: ' + str(true_y2))\n",
    "print('Predicted y: ' + str(y_pred))"
   ]
  },
  {
   "cell_type": "code",
   "execution_count": 18,
   "metadata": {
    "collapsed": false
   },
   "outputs": [
    {
     "data": {
      "text/plain": [
       "array([ array([[ 0.39828278,  0.29656556,  0.46565555],\n",
       "       [ 0.69673126,  0.62346252,  0.26462525],\n",
       "       [ 0.21480253,  0.39960506,  0.42605059]]),\n",
       "       array([[ 0.41042405,  0.49537639,  0.92315088,  0.76628642],\n",
       "       [ 0.46430831,  0.54896316,  0.5565346 ,  0.77261816]]),\n",
       "       array([[-1.59381313, -1.45148161, -1.97847675],\n",
       "       [ 1.55382308,  1.56165418,  1.91960895]])], dtype=object)"
      ]
     },
     "execution_count": 18,
     "metadata": {},
     "output_type": "execute_result"
    }
   ],
   "source": [
    "model_big.network_weights"
   ]
  },
  {
   "cell_type": "markdown",
   "metadata": {},
   "source": [
    "## ReLU Network"
   ]
  },
  {
   "cell_type": "code",
   "execution_count": 19,
   "metadata": {
    "collapsed": true
   },
   "outputs": [],
   "source": [
    "# Starting weights\n",
    "input_vec3 = np.array([.05,.1])\n",
    "true_y3 = np.array([.01,.99])\n",
    "w_h31 = np.array([\n",
    "    [.40, .30, .50],\n",
    "    [.70, .63, .33],\n",
    "    [.23, .43, .73]\n",
    "])\n",
    "w_h32 = np.array([\n",
    "    [.15, .25, .66, .35],\n",
    "    [.2,  .30, .29, .35]\n",
    "])\n",
    "w_o3 = np.array([\n",
    "    [.40, .45, .60],\n",
    "    [.50, .55, .60]\n",
    "])"
   ]
  },
  {
   "cell_type": "markdown",
   "metadata": {},
   "source": [
    "### ReLU network dies with high Learning Rate"
   ]
  },
  {
   "cell_type": "code",
   "execution_count": 20,
   "metadata": {
    "collapsed": false,
    "scrolled": true
   },
   "outputs": [
    {
     "name": "stdout",
     "output_type": "stream",
     "text": [
      "Epoch 0 loss: 1.12479929463\n",
      "Epoch 7500 loss: 5e-05\n",
      "Epoch 15000 loss: 5e-05\n",
      "Epoch 22500 loss: 5e-05\n",
      "Epoch 30000 loss: 5e-05\n",
      "Epoch 0 loss: 5e-05\n",
      "Epoch 7500 loss: 5e-05\n",
      "Epoch 15000 loss: 5e-05\n",
      "Epoch 22500 loss: 5e-05\n",
      "Epoch 30000 loss: 5e-05\n",
      "Epoch 0 loss: 5e-05\n",
      "Epoch 7500 loss: 5e-05\n",
      "Epoch 15000 loss: 5e-05\n",
      "Epoch 22500 loss: 5e-05\n",
      "Epoch 30000 loss: 5e-05\n"
     ]
    }
   ],
   "source": [
    "model_big_relu = BasicModel(\n",
    "    init_weights=[w_h31, w_h32, w_o3], \n",
    "    layer_activations=[relu_func, relu_func, relu_func]\n",
    ")\n",
    "\n",
    "model_hist = []\n",
    "for lr in [0.5, 0.01, 0.001]:\n",
    "    epoch_hist = model_big_relu.fit_std(\n",
    "        x=input_vec3, \n",
    "        y_true=true_y3, \n",
    "        epochs=30001, \n",
    "        loss_function=mean_squared_error, \n",
    "        optimizer_func=stochastic_gradient_descent,\n",
    "        lr=lr\n",
    "    )\n",
    "    model_hist += epoch_hist"
   ]
  },
  {
   "cell_type": "code",
   "execution_count": 21,
   "metadata": {
    "collapsed": false
   },
   "outputs": [
    {
     "data": {
      "image/png": "[encoded data removed]",
      "text/plain": [
       "<matplotlib.figure.Figure at 0x1e36aad1128>"
      ]
     },
     "metadata": {},
     "output_type": "display_data"
    }
   ],
   "source": [
    "plot_history(model_hist)"
   ]
  },
  {
   "cell_type": "markdown",
   "metadata": {},
   "source": [
    "### A more reasonable Learning Rate"
   ]
  },
  {
   "cell_type": "code",
   "execution_count": 22,
   "metadata": {
    "collapsed": false
   },
   "outputs": [
    {
     "name": "stdout",
     "output_type": "stream",
     "text": [
      "Epoch 0 loss: 1.12479929463\n",
      "Epoch 7500 loss: 3.55348669677e-30\n",
      "Epoch 15000 loss: 3.55348669677e-30\n",
      "Epoch 22500 loss: 3.55348669677e-30\n",
      "Epoch 30000 loss: 3.55348669677e-30\n",
      "Epoch 0 loss: 3.55348669677e-30\n",
      "Epoch 7500 loss: 3.55348669677e-30\n",
      "Epoch 15000 loss: 3.55348669677e-30\n",
      "Epoch 22500 loss: 3.55348669677e-30\n",
      "Epoch 30000 loss: 3.55348669677e-30\n"
     ]
    }
   ],
   "source": [
    "model_big_relu = BasicModel(\n",
    "    init_weights=[w_h31, w_h32, w_o3], \n",
    "    layer_activations=[relu_func, relu_func, relu_func]\n",
    ")\n",
    "\n",
    "model_hist = []\n",
    "for lr in [0.01, 0.001]:\n",
    "    epoch_hist = model_big_relu.fit_std(\n",
    "        x=input_vec3, \n",
    "        y_true=true_y3, \n",
    "        epochs=30001, \n",
    "        loss_function=mean_squared_error, \n",
    "        optimizer_func=stochastic_gradient_descent,\n",
    "        lr=lr\n",
    "    )\n",
    "    model_hist += epoch_hist"
   ]
  },
  {
   "cell_type": "code",
   "execution_count": 23,
   "metadata": {
    "collapsed": false
   },
   "outputs": [
    {
     "data": {
      "image/png": "[encoded data removed]",
      "text/plain": [
       "<matplotlib.figure.Figure at 0x1e366fad828>"
      ]
     },
     "metadata": {},
     "output_type": "display_data"
    }
   ],
   "source": [
    "plot_history(model_hist)"
   ]
  },
  {
   "cell_type": "markdown",
   "metadata": {},
   "source": [
    "### Learning Rate too low and it won't converge fast enough"
   ]
  },
  {
   "cell_type": "code",
   "execution_count": 24,
   "metadata": {
    "collapsed": false
   },
   "outputs": [
    {
     "name": "stdout",
     "output_type": "stream",
     "text": [
      "Epoch 0 loss: 1.12479929463\n",
      "Epoch 7500 loss: 1.18937654076e-10\n",
      "Epoch 15000 loss: 4.75538016227e-20\n",
      "Epoch 22500 loss: 4.35112165734e-28\n",
      "Epoch 30000 loss: 3.73333299911e-28\n",
      "Epoch 0 loss: 3.73333299911e-28\n",
      "Epoch 7500 loss: 3.73333299911e-28\n",
      "Epoch 15000 loss: 3.73333299911e-28\n",
      "Epoch 22500 loss: 3.73333299911e-28\n",
      "Epoch 30000 loss: 3.73333299911e-28\n"
     ]
    }
   ],
   "source": [
    "model_big_relu = BasicModel(\n",
    "    init_weights=[w_h31, w_h32, w_o3], \n",
    "    layer_activations=[relu_func, relu_func, relu_func]\n",
    ")\n",
    "\n",
    "model_hist = []\n",
    "for lr in [0.001, 0.0001]:\n",
    "    epoch_hist = model_big_relu.fit_std(\n",
    "        x=input_vec3, \n",
    "        y_true=true_y3, \n",
    "        epochs=30001, \n",
    "        loss_function=mean_squared_error, \n",
    "        optimizer_func=stochastic_gradient_descent,\n",
    "        lr=lr\n",
    "    )\n",
    "    model_hist += epoch_hist"
   ]
  },
  {
   "cell_type": "code",
   "execution_count": 25,
   "metadata": {
    "collapsed": false
   },
   "outputs": [
    {
     "data": {
      "image/png": "[encoded data removed]",
      "text/plain": [
       "<matplotlib.figure.Figure at 0x1e368469b00>"
      ]
     },
     "metadata": {},
     "output_type": "display_data"
    }
   ],
   "source": [
    "plot_history(model_hist)"
   ]
  },
  {
   "cell_type": "markdown",
   "metadata": {},
   "source": [
    "# Mini-Batch NN\n",
    "## Integrate code into BasicModel"
   ]
  },
  {
   "cell_type": "code",
   "execution_count": null,
   "metadata": {
    "collapsed": true
   },
   "outputs": [],
   "source": []
  },
  {
   "cell_type": "markdown",
   "metadata": {},
   "source": [
    "# Convolutional Layer"
   ]
  },
  {
   "cell_type": "code",
   "execution_count": null,
   "metadata": {
    "collapsed": true
   },
   "outputs": [],
   "source": []
  },
  {
   "cell_type": "markdown",
   "metadata": {},
   "source": [
    "# Dropout"
   ]
  },
  {
   "cell_type": "code",
   "execution_count": null,
   "metadata": {
    "collapsed": true
   },
   "outputs": [],
   "source": []
  },
  {
   "cell_type": "markdown",
   "metadata": {},
   "source": [
    "# Batch Normalization"
   ]
  },
  {
   "cell_type": "code",
   "execution_count": null,
   "metadata": {
    "collapsed": true
   },
   "outputs": [],
   "source": []
  }
 ],
 "metadata": {
  "kernelspec": {
   "display_name": "Python 3",
   "language": "python",
   "name": "python3"
  },
  "language_info": {
   "codemirror_mode": {
    "name": "ipython",
    "version": 3
   },
   "file_extension": ".py",
   "mimetype": "text/x-python",
   "name": "python",
   "nbconvert_exporter": "python",
   "pygments_lexer": "ipython3",
   "version": "3.6.0"
  }
 },
 "nbformat": 4,
 "nbformat_minor": 2
}
